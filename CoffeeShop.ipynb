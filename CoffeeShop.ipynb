{
 "cells": [
  {
   "cell_type": "markdown",
   "metadata": {},
   "source": [
    "Nutritional Fact Analysis of Coffee Shop Menu"
   ]
  },
  {
   "cell_type": "markdown",
   "metadata": {},
   "source": [
    "The management of the coffee shop realized that its customers are becoming increasingly health-conscious and therefore, they decided to mark the low-calorie beverages and the healthier options with a special symbol so that the customers can identify them easily.\n",
    "\n",
    "For instance, one of the popular hypotheses in the management board is that they would want to mark the beverages that use low-fat milk as ‘healthy’ or ‘heart-healthy’ because they presume that it would have fewer calories and lower total fat than the whole milk alternatives.\n",
    "\n",
    "Similarly, they would want to know beverages are high in protein, high in fat, etc. So that special marketing effort can be planned around them.\n",
    "\n",
    "For this analysis, the nutritional facts such as calories, total fat, trans fat, saturated fat, sugars, cholesterol, and protein are recorded for more than 30 Beverages on the menu. The facts are organized considering different choices of size and milk."
   ]
  },
  {
   "cell_type": "code",
   "execution_count": 1,
   "metadata": {},
   "outputs": [
    {
     "name": "stderr",
     "output_type": "stream",
     "text": [
      "/Library/Frameworks/Python.framework/Versions/3.10/lib/python3.10/site-packages/statsmodels/compat/pandas.py:65: FutureWarning: pandas.Int64Index is deprecated and will be removed from pandas in a future version. Use pandas.Index with the appropriate dtype instead.\n",
      "  from pandas import Int64Index as NumericIndex\n"
     ]
    }
   ],
   "source": [
    "import pandas as pd\n",
    "import numpy as np\n",
    "import matplotlib.pyplot as plt\n",
    "import seaborn as sns\n",
    "import scipy as sp\n",
    "import statsmodels.formula.api as smf"
   ]
  },
  {
   "cell_type": "code",
   "execution_count": 2,
   "metadata": {},
   "outputs": [],
   "source": [
    "from statsmodels.formula.api import ols\n",
    "from statsmodels.stats.anova import anova_lm"
   ]
  },
  {
   "cell_type": "markdown",
   "metadata": {},
   "source": [
    "Analyze the nutritional fact of the coffee shop menu items.There are Three Type of Analysis.\n",
    "\n"
   ]
  },
  {
   "cell_type": "code",
   "execution_count": 3,
   "metadata": {},
   "outputs": [
    {
     "data": {
      "text/html": [
       "<div>\n",
       "<style scoped>\n",
       "    .dataframe tbody tr th:only-of-type {\n",
       "        vertical-align: middle;\n",
       "    }\n",
       "\n",
       "    .dataframe tbody tr th {\n",
       "        vertical-align: top;\n",
       "    }\n",
       "\n",
       "    .dataframe thead th {\n",
       "        text-align: right;\n",
       "    }\n",
       "</style>\n",
       "<table border=\"1\" class=\"dataframe\">\n",
       "  <thead>\n",
       "    <tr style=\"text-align: right;\">\n",
       "      <th></th>\n",
       "      <th>Category</th>\n",
       "      <th>Beverage</th>\n",
       "      <th>Size</th>\n",
       "      <th>Milk</th>\n",
       "      <th>Calories</th>\n",
       "      <th>TotalFat</th>\n",
       "      <th>TransFat</th>\n",
       "      <th>SaturatedFat</th>\n",
       "      <th>Sodium</th>\n",
       "      <th>TotalCarb</th>\n",
       "      <th>Cholesterol</th>\n",
       "      <th>DietaryFibre</th>\n",
       "      <th>Sugars</th>\n",
       "      <th>Protein</th>\n",
       "    </tr>\n",
       "  </thead>\n",
       "  <tbody>\n",
       "    <tr>\n",
       "      <th>0</th>\n",
       "      <td>Coffee</td>\n",
       "      <td>Brewed Coffee</td>\n",
       "      <td>Short</td>\n",
       "      <td>None</td>\n",
       "      <td>3</td>\n",
       "      <td>0.1</td>\n",
       "      <td>0.0</td>\n",
       "      <td>0.0</td>\n",
       "      <td>0</td>\n",
       "      <td>5</td>\n",
       "      <td>0</td>\n",
       "      <td>0</td>\n",
       "      <td>0</td>\n",
       "      <td>0.3</td>\n",
       "    </tr>\n",
       "    <tr>\n",
       "      <th>1</th>\n",
       "      <td>Coffee</td>\n",
       "      <td>Brewed Coffee</td>\n",
       "      <td>Tall</td>\n",
       "      <td>None</td>\n",
       "      <td>4</td>\n",
       "      <td>0.1</td>\n",
       "      <td>0.0</td>\n",
       "      <td>0.0</td>\n",
       "      <td>0</td>\n",
       "      <td>10</td>\n",
       "      <td>0</td>\n",
       "      <td>0</td>\n",
       "      <td>0</td>\n",
       "      <td>0.5</td>\n",
       "    </tr>\n",
       "    <tr>\n",
       "      <th>2</th>\n",
       "      <td>Coffee</td>\n",
       "      <td>Brewed Coffee</td>\n",
       "      <td>Grande</td>\n",
       "      <td>None</td>\n",
       "      <td>5</td>\n",
       "      <td>0.1</td>\n",
       "      <td>0.0</td>\n",
       "      <td>0.0</td>\n",
       "      <td>0</td>\n",
       "      <td>10</td>\n",
       "      <td>0</td>\n",
       "      <td>0</td>\n",
       "      <td>0</td>\n",
       "      <td>1.0</td>\n",
       "    </tr>\n",
       "    <tr>\n",
       "      <th>3</th>\n",
       "      <td>Coffee</td>\n",
       "      <td>Brewed Coffee</td>\n",
       "      <td>Venti</td>\n",
       "      <td>None</td>\n",
       "      <td>5</td>\n",
       "      <td>0.1</td>\n",
       "      <td>0.0</td>\n",
       "      <td>0.0</td>\n",
       "      <td>0</td>\n",
       "      <td>10</td>\n",
       "      <td>0</td>\n",
       "      <td>0</td>\n",
       "      <td>0</td>\n",
       "      <td>1.0</td>\n",
       "    </tr>\n",
       "    <tr>\n",
       "      <th>4</th>\n",
       "      <td>Classic Espresso Drinks</td>\n",
       "      <td>Caffe Latte</td>\n",
       "      <td>Short</td>\n",
       "      <td>Nonfat Milk</td>\n",
       "      <td>70</td>\n",
       "      <td>0.1</td>\n",
       "      <td>0.1</td>\n",
       "      <td>0.0</td>\n",
       "      <td>5</td>\n",
       "      <td>75</td>\n",
       "      <td>10</td>\n",
       "      <td>0</td>\n",
       "      <td>9</td>\n",
       "      <td>6.0</td>\n",
       "    </tr>\n",
       "    <tr>\n",
       "      <th>...</th>\n",
       "      <td>...</td>\n",
       "      <td>...</td>\n",
       "      <td>...</td>\n",
       "      <td>...</td>\n",
       "      <td>...</td>\n",
       "      <td>...</td>\n",
       "      <td>...</td>\n",
       "      <td>...</td>\n",
       "      <td>...</td>\n",
       "      <td>...</td>\n",
       "      <td>...</td>\n",
       "      <td>...</td>\n",
       "      <td>...</td>\n",
       "      <td>...</td>\n",
       "    </tr>\n",
       "    <tr>\n",
       "      <th>233</th>\n",
       "      <td>Frappuccino Blended Creme</td>\n",
       "      <td>Strawberries &amp; Creme (Without Whipped Cream)</td>\n",
       "      <td>Grande</td>\n",
       "      <td>Whole Milk</td>\n",
       "      <td>260</td>\n",
       "      <td>4.0</td>\n",
       "      <td>2.0</td>\n",
       "      <td>0.1</td>\n",
       "      <td>10</td>\n",
       "      <td>190</td>\n",
       "      <td>53</td>\n",
       "      <td>0</td>\n",
       "      <td>52</td>\n",
       "      <td>4.0</td>\n",
       "    </tr>\n",
       "    <tr>\n",
       "      <th>234</th>\n",
       "      <td>Frappuccino Blended Creme</td>\n",
       "      <td>Strawberries &amp; Creme (Without Whipped Cream)</td>\n",
       "      <td>Grande</td>\n",
       "      <td>Soymilk</td>\n",
       "      <td>240</td>\n",
       "      <td>2.0</td>\n",
       "      <td>0.2</td>\n",
       "      <td>0.0</td>\n",
       "      <td>0</td>\n",
       "      <td>180</td>\n",
       "      <td>51</td>\n",
       "      <td>1</td>\n",
       "      <td>49</td>\n",
       "      <td>3.0</td>\n",
       "    </tr>\n",
       "    <tr>\n",
       "      <th>235</th>\n",
       "      <td>Frappuccino Blended Creme</td>\n",
       "      <td>Strawberries &amp; Creme (Without Whipped Cream)</td>\n",
       "      <td>Venti</td>\n",
       "      <td>Nonfat Milk</td>\n",
       "      <td>310</td>\n",
       "      <td>0.2</td>\n",
       "      <td>0.1</td>\n",
       "      <td>0.0</td>\n",
       "      <td>5</td>\n",
       "      <td>260</td>\n",
       "      <td>70</td>\n",
       "      <td>0</td>\n",
       "      <td>69</td>\n",
       "      <td>6.0</td>\n",
       "    </tr>\n",
       "    <tr>\n",
       "      <th>236</th>\n",
       "      <td>Frappuccino Blended Creme</td>\n",
       "      <td>Strawberries &amp; Creme (Without Whipped Cream)</td>\n",
       "      <td>Venti</td>\n",
       "      <td>Whole Milk</td>\n",
       "      <td>350</td>\n",
       "      <td>6.0</td>\n",
       "      <td>3.0</td>\n",
       "      <td>0.2</td>\n",
       "      <td>15</td>\n",
       "      <td>260</td>\n",
       "      <td>70</td>\n",
       "      <td>0</td>\n",
       "      <td>68</td>\n",
       "      <td>6.0</td>\n",
       "    </tr>\n",
       "    <tr>\n",
       "      <th>237</th>\n",
       "      <td>Frappuccino Blended Creme</td>\n",
       "      <td>Strawberries &amp; Creme (Without Whipped Cream)</td>\n",
       "      <td>Venti</td>\n",
       "      <td>Soymilk</td>\n",
       "      <td>320</td>\n",
       "      <td>3.2</td>\n",
       "      <td>0.4</td>\n",
       "      <td>0.0</td>\n",
       "      <td>0</td>\n",
       "      <td>250</td>\n",
       "      <td>67</td>\n",
       "      <td>1</td>\n",
       "      <td>64</td>\n",
       "      <td>5.0</td>\n",
       "    </tr>\n",
       "  </tbody>\n",
       "</table>\n",
       "<p>238 rows × 14 columns</p>\n",
       "</div>"
      ],
      "text/plain": [
       "                      Category                                      Beverage  \\\n",
       "0                       Coffee                                 Brewed Coffee   \n",
       "1                       Coffee                                 Brewed Coffee   \n",
       "2                       Coffee                                 Brewed Coffee   \n",
       "3                       Coffee                                 Brewed Coffee   \n",
       "4      Classic Espresso Drinks                                   Caffe Latte   \n",
       "..                         ...                                           ...   \n",
       "233  Frappuccino Blended Creme  Strawberries & Creme (Without Whipped Cream)   \n",
       "234  Frappuccino Blended Creme  Strawberries & Creme (Without Whipped Cream)   \n",
       "235  Frappuccino Blended Creme  Strawberries & Creme (Without Whipped Cream)   \n",
       "236  Frappuccino Blended Creme  Strawberries & Creme (Without Whipped Cream)   \n",
       "237  Frappuccino Blended Creme  Strawberries & Creme (Without Whipped Cream)   \n",
       "\n",
       "       Size         Milk  Calories  TotalFat  TransFat  SaturatedFat  Sodium  \\\n",
       "0     Short         None         3       0.1       0.0           0.0       0   \n",
       "1      Tall         None         4       0.1       0.0           0.0       0   \n",
       "2    Grande         None         5       0.1       0.0           0.0       0   \n",
       "3     Venti         None         5       0.1       0.0           0.0       0   \n",
       "4     Short  Nonfat Milk        70       0.1       0.1           0.0       5   \n",
       "..      ...          ...       ...       ...       ...           ...     ...   \n",
       "233  Grande   Whole Milk       260       4.0       2.0           0.1      10   \n",
       "234  Grande      Soymilk       240       2.0       0.2           0.0       0   \n",
       "235   Venti  Nonfat Milk       310       0.2       0.1           0.0       5   \n",
       "236   Venti   Whole Milk       350       6.0       3.0           0.2      15   \n",
       "237   Venti      Soymilk       320       3.2       0.4           0.0       0   \n",
       "\n",
       "     TotalCarb  Cholesterol  DietaryFibre  Sugars  Protein  \n",
       "0            5            0             0       0      0.3  \n",
       "1           10            0             0       0      0.5  \n",
       "2           10            0             0       0      1.0  \n",
       "3           10            0             0       0      1.0  \n",
       "4           75           10             0       9      6.0  \n",
       "..         ...          ...           ...     ...      ...  \n",
       "233        190           53             0      52      4.0  \n",
       "234        180           51             1      49      3.0  \n",
       "235        260           70             0      69      6.0  \n",
       "236        260           70             0      68      6.0  \n",
       "237        250           67             1      64      5.0  \n",
       "\n",
       "[238 rows x 14 columns]"
      ]
     },
     "execution_count": 3,
     "metadata": {},
     "output_type": "execute_result"
    }
   ],
   "source": [
    "Shop = pd.read_csv('CoffeeShopMenu.csv')\n",
    "Shop"
   ]
  },
  {
   "cell_type": "markdown",
   "metadata": {},
   "source": [
    "Exploratory Data Analysis :- \n",
    "Generate as many insights as possible on which beverage category, beverage, milk types are high and low on calories, fat, protein, carbs, sugar, and dietary fiber, etc."
   ]
  },
  {
   "cell_type": "code",
   "execution_count": 8,
   "metadata": {},
   "outputs": [
    {
     "data": {
      "text/plain": [
       "(238, 14)"
      ]
     },
     "execution_count": 8,
     "metadata": {},
     "output_type": "execute_result"
    }
   ],
   "source": [
    "Shop.shape"
   ]
  },
  {
   "cell_type": "code",
   "execution_count": 9,
   "metadata": {},
   "outputs": [
    {
     "data": {
      "text/plain": [
       "<bound method DataFrame.info of                       Category                                      Beverage  \\\n",
       "0                       Coffee                                 Brewed Coffee   \n",
       "1                       Coffee                                 Brewed Coffee   \n",
       "2                       Coffee                                 Brewed Coffee   \n",
       "3                       Coffee                                 Brewed Coffee   \n",
       "4      Classic Espresso Drinks                                   Caffe Latte   \n",
       "..                         ...                                           ...   \n",
       "233  Frappuccino Blended Creme  Strawberries & Creme (Without Whipped Cream)   \n",
       "234  Frappuccino Blended Creme  Strawberries & Creme (Without Whipped Cream)   \n",
       "235  Frappuccino Blended Creme  Strawberries & Creme (Without Whipped Cream)   \n",
       "236  Frappuccino Blended Creme  Strawberries & Creme (Without Whipped Cream)   \n",
       "237  Frappuccino Blended Creme  Strawberries & Creme (Without Whipped Cream)   \n",
       "\n",
       "       Size         Milk  Calories  TotalFat  TransFat  SaturatedFat  Sodium  \\\n",
       "0     Short         None         3       0.1       0.0           0.0       0   \n",
       "1      Tall         None         4       0.1       0.0           0.0       0   \n",
       "2    Grande         None         5       0.1       0.0           0.0       0   \n",
       "3     Venti         None         5       0.1       0.0           0.0       0   \n",
       "4     Short  Nonfat Milk        70       0.1       0.1           0.0       5   \n",
       "..      ...          ...       ...       ...       ...           ...     ...   \n",
       "233  Grande   Whole Milk       260       4.0       2.0           0.1      10   \n",
       "234  Grande      Soymilk       240       2.0       0.2           0.0       0   \n",
       "235   Venti  Nonfat Milk       310       0.2       0.1           0.0       5   \n",
       "236   Venti   Whole Milk       350       6.0       3.0           0.2      15   \n",
       "237   Venti      Soymilk       320       3.2       0.4           0.0       0   \n",
       "\n",
       "     TotalCarb  Cholesterol  DietaryFibre  Sugars  Protein  \n",
       "0            5            0             0       0      0.3  \n",
       "1           10            0             0       0      0.5  \n",
       "2           10            0             0       0      1.0  \n",
       "3           10            0             0       0      1.0  \n",
       "4           75           10             0       9      6.0  \n",
       "..         ...          ...           ...     ...      ...  \n",
       "233        190           53             0      52      4.0  \n",
       "234        180           51             1      49      3.0  \n",
       "235        260           70             0      69      6.0  \n",
       "236        260           70             0      68      6.0  \n",
       "237        250           67             1      64      5.0  \n",
       "\n",
       "[238 rows x 14 columns]>"
      ]
     },
     "execution_count": 9,
     "metadata": {},
     "output_type": "execute_result"
    }
   ],
   "source": [
    "Shop.info"
   ]
  },
  {
   "cell_type": "code",
   "execution_count": 17,
   "metadata": {},
   "outputs": [
    {
     "data": {
      "text/plain": [
       "15"
      ]
     },
     "execution_count": 17,
     "metadata": {},
     "output_type": "execute_result"
    }
   ],
   "source": [
    "Unique_Category = Shop.Category.unique()\n",
    "len('Unique_Category')"
   ]
  },
  {
   "cell_type": "code",
   "execution_count": 11,
   "metadata": {},
   "outputs": [
    {
     "data": {
      "text/html": [
       "<div>\n",
       "<style scoped>\n",
       "    .dataframe tbody tr th:only-of-type {\n",
       "        vertical-align: middle;\n",
       "    }\n",
       "\n",
       "    .dataframe tbody tr th {\n",
       "        vertical-align: top;\n",
       "    }\n",
       "\n",
       "    .dataframe thead th {\n",
       "        text-align: right;\n",
       "    }\n",
       "</style>\n",
       "<table border=\"1\" class=\"dataframe\">\n",
       "  <thead>\n",
       "    <tr style=\"text-align: right;\">\n",
       "      <th></th>\n",
       "      <th>Calories</th>\n",
       "      <th>TotalFat</th>\n",
       "      <th>TransFat</th>\n",
       "      <th>SaturatedFat</th>\n",
       "      <th>Sodium</th>\n",
       "      <th>TotalCarb</th>\n",
       "      <th>Cholesterol</th>\n",
       "      <th>DietaryFibre</th>\n",
       "      <th>Sugars</th>\n",
       "      <th>Protein</th>\n",
       "    </tr>\n",
       "  </thead>\n",
       "  <tbody>\n",
       "    <tr>\n",
       "      <th>count</th>\n",
       "      <td>238.000000</td>\n",
       "      <td>238.000000</td>\n",
       "      <td>238.000000</td>\n",
       "      <td>238.000000</td>\n",
       "      <td>238.000000</td>\n",
       "      <td>238.000000</td>\n",
       "      <td>238.000000</td>\n",
       "      <td>238.000000</td>\n",
       "      <td>238.000000</td>\n",
       "      <td>238.000000</td>\n",
       "    </tr>\n",
       "    <tr>\n",
       "      <th>mean</th>\n",
       "      <td>193.810924</td>\n",
       "      <td>2.931933</td>\n",
       "      <td>1.318908</td>\n",
       "      <td>0.037815</td>\n",
       "      <td>6.407563</td>\n",
       "      <td>128.067227</td>\n",
       "      <td>35.878151</td>\n",
       "      <td>0.815126</td>\n",
       "      <td>32.819328</td>\n",
       "      <td>7.032773</td>\n",
       "    </tr>\n",
       "    <tr>\n",
       "      <th>std</th>\n",
       "      <td>103.668135</td>\n",
       "      <td>2.956133</td>\n",
       "      <td>1.648097</td>\n",
       "      <td>0.071737</td>\n",
       "      <td>8.679348</td>\n",
       "      <td>82.656396</td>\n",
       "      <td>20.927388</td>\n",
       "      <td>1.455189</td>\n",
       "      <td>19.838082</td>\n",
       "      <td>4.893173</td>\n",
       "    </tr>\n",
       "    <tr>\n",
       "      <th>min</th>\n",
       "      <td>0.000000</td>\n",
       "      <td>0.000000</td>\n",
       "      <td>0.000000</td>\n",
       "      <td>0.000000</td>\n",
       "      <td>0.000000</td>\n",
       "      <td>0.000000</td>\n",
       "      <td>0.000000</td>\n",
       "      <td>0.000000</td>\n",
       "      <td>0.000000</td>\n",
       "      <td>0.000000</td>\n",
       "    </tr>\n",
       "    <tr>\n",
       "      <th>25%</th>\n",
       "      <td>120.000000</td>\n",
       "      <td>0.200000</td>\n",
       "      <td>0.100000</td>\n",
       "      <td>0.000000</td>\n",
       "      <td>0.000000</td>\n",
       "      <td>70.000000</td>\n",
       "      <td>21.000000</td>\n",
       "      <td>0.000000</td>\n",
       "      <td>18.000000</td>\n",
       "      <td>3.000000</td>\n",
       "    </tr>\n",
       "    <tr>\n",
       "      <th>50%</th>\n",
       "      <td>185.000000</td>\n",
       "      <td>2.500000</td>\n",
       "      <td>0.500000</td>\n",
       "      <td>0.000000</td>\n",
       "      <td>5.000000</td>\n",
       "      <td>120.000000</td>\n",
       "      <td>34.000000</td>\n",
       "      <td>0.000000</td>\n",
       "      <td>32.000000</td>\n",
       "      <td>6.000000</td>\n",
       "    </tr>\n",
       "    <tr>\n",
       "      <th>75%</th>\n",
       "      <td>260.000000</td>\n",
       "      <td>4.500000</td>\n",
       "      <td>2.000000</td>\n",
       "      <td>0.100000</td>\n",
       "      <td>10.000000</td>\n",
       "      <td>170.000000</td>\n",
       "      <td>50.750000</td>\n",
       "      <td>1.000000</td>\n",
       "      <td>43.750000</td>\n",
       "      <td>10.000000</td>\n",
       "    </tr>\n",
       "    <tr>\n",
       "      <th>max</th>\n",
       "      <td>510.000000</td>\n",
       "      <td>15.000000</td>\n",
       "      <td>9.000000</td>\n",
       "      <td>0.300000</td>\n",
       "      <td>40.000000</td>\n",
       "      <td>340.000000</td>\n",
       "      <td>90.000000</td>\n",
       "      <td>8.000000</td>\n",
       "      <td>84.000000</td>\n",
       "      <td>20.000000</td>\n",
       "    </tr>\n",
       "  </tbody>\n",
       "</table>\n",
       "</div>"
      ],
      "text/plain": [
       "         Calories    TotalFat    TransFat  SaturatedFat      Sodium  \\\n",
       "count  238.000000  238.000000  238.000000    238.000000  238.000000   \n",
       "mean   193.810924    2.931933    1.318908      0.037815    6.407563   \n",
       "std    103.668135    2.956133    1.648097      0.071737    8.679348   \n",
       "min      0.000000    0.000000    0.000000      0.000000    0.000000   \n",
       "25%    120.000000    0.200000    0.100000      0.000000    0.000000   \n",
       "50%    185.000000    2.500000    0.500000      0.000000    5.000000   \n",
       "75%    260.000000    4.500000    2.000000      0.100000   10.000000   \n",
       "max    510.000000   15.000000    9.000000      0.300000   40.000000   \n",
       "\n",
       "        TotalCarb  Cholesterol  DietaryFibre      Sugars     Protein  \n",
       "count  238.000000   238.000000    238.000000  238.000000  238.000000  \n",
       "mean   128.067227    35.878151      0.815126   32.819328    7.032773  \n",
       "std     82.656396    20.927388      1.455189   19.838082    4.893173  \n",
       "min      0.000000     0.000000      0.000000    0.000000    0.000000  \n",
       "25%     70.000000    21.000000      0.000000   18.000000    3.000000  \n",
       "50%    120.000000    34.000000      0.000000   32.000000    6.000000  \n",
       "75%    170.000000    50.750000      1.000000   43.750000   10.000000  \n",
       "max    340.000000    90.000000      8.000000   84.000000   20.000000  "
      ]
     },
     "execution_count": 11,
     "metadata": {},
     "output_type": "execute_result"
    }
   ],
   "source": [
    "Shop.describe()"
   ]
  },
  {
   "cell_type": "code",
   "execution_count": 9,
   "metadata": {},
   "outputs": [
    {
     "data": {
      "text/html": [
       "<div>\n",
       "<style scoped>\n",
       "    .dataframe tbody tr th:only-of-type {\n",
       "        vertical-align: middle;\n",
       "    }\n",
       "\n",
       "    .dataframe tbody tr th {\n",
       "        vertical-align: top;\n",
       "    }\n",
       "\n",
       "    .dataframe thead th {\n",
       "        text-align: right;\n",
       "    }\n",
       "</style>\n",
       "<table border=\"1\" class=\"dataframe\">\n",
       "  <thead>\n",
       "    <tr style=\"text-align: right;\">\n",
       "      <th></th>\n",
       "      <th>count</th>\n",
       "      <th>mean</th>\n",
       "      <th>std</th>\n",
       "      <th>min</th>\n",
       "      <th>25%</th>\n",
       "      <th>50%</th>\n",
       "      <th>75%</th>\n",
       "      <th>max</th>\n",
       "    </tr>\n",
       "  </thead>\n",
       "  <tbody>\n",
       "    <tr>\n",
       "      <th>Calories</th>\n",
       "      <td>238.0</td>\n",
       "      <td>193.810924</td>\n",
       "      <td>103.668135</td>\n",
       "      <td>0.0</td>\n",
       "      <td>120.0</td>\n",
       "      <td>185.0</td>\n",
       "      <td>260.00</td>\n",
       "      <td>510.0</td>\n",
       "    </tr>\n",
       "    <tr>\n",
       "      <th>TotalFat</th>\n",
       "      <td>238.0</td>\n",
       "      <td>2.931933</td>\n",
       "      <td>2.956133</td>\n",
       "      <td>0.0</td>\n",
       "      <td>0.2</td>\n",
       "      <td>2.5</td>\n",
       "      <td>4.50</td>\n",
       "      <td>15.0</td>\n",
       "    </tr>\n",
       "    <tr>\n",
       "      <th>TransFat</th>\n",
       "      <td>238.0</td>\n",
       "      <td>1.318908</td>\n",
       "      <td>1.648097</td>\n",
       "      <td>0.0</td>\n",
       "      <td>0.1</td>\n",
       "      <td>0.5</td>\n",
       "      <td>2.00</td>\n",
       "      <td>9.0</td>\n",
       "    </tr>\n",
       "    <tr>\n",
       "      <th>SaturatedFat</th>\n",
       "      <td>238.0</td>\n",
       "      <td>0.037815</td>\n",
       "      <td>0.071737</td>\n",
       "      <td>0.0</td>\n",
       "      <td>0.0</td>\n",
       "      <td>0.0</td>\n",
       "      <td>0.10</td>\n",
       "      <td>0.3</td>\n",
       "    </tr>\n",
       "    <tr>\n",
       "      <th>Sodium</th>\n",
       "      <td>238.0</td>\n",
       "      <td>6.407563</td>\n",
       "      <td>8.679348</td>\n",
       "      <td>0.0</td>\n",
       "      <td>0.0</td>\n",
       "      <td>5.0</td>\n",
       "      <td>10.00</td>\n",
       "      <td>40.0</td>\n",
       "    </tr>\n",
       "    <tr>\n",
       "      <th>TotalCarb</th>\n",
       "      <td>238.0</td>\n",
       "      <td>128.067227</td>\n",
       "      <td>82.656396</td>\n",
       "      <td>0.0</td>\n",
       "      <td>70.0</td>\n",
       "      <td>120.0</td>\n",
       "      <td>170.00</td>\n",
       "      <td>340.0</td>\n",
       "    </tr>\n",
       "    <tr>\n",
       "      <th>Cholesterol</th>\n",
       "      <td>238.0</td>\n",
       "      <td>35.878151</td>\n",
       "      <td>20.927388</td>\n",
       "      <td>0.0</td>\n",
       "      <td>21.0</td>\n",
       "      <td>34.0</td>\n",
       "      <td>50.75</td>\n",
       "      <td>90.0</td>\n",
       "    </tr>\n",
       "    <tr>\n",
       "      <th>DietaryFibre</th>\n",
       "      <td>238.0</td>\n",
       "      <td>0.815126</td>\n",
       "      <td>1.455189</td>\n",
       "      <td>0.0</td>\n",
       "      <td>0.0</td>\n",
       "      <td>0.0</td>\n",
       "      <td>1.00</td>\n",
       "      <td>8.0</td>\n",
       "    </tr>\n",
       "    <tr>\n",
       "      <th>Sugars</th>\n",
       "      <td>238.0</td>\n",
       "      <td>32.819328</td>\n",
       "      <td>19.838082</td>\n",
       "      <td>0.0</td>\n",
       "      <td>18.0</td>\n",
       "      <td>32.0</td>\n",
       "      <td>43.75</td>\n",
       "      <td>84.0</td>\n",
       "    </tr>\n",
       "    <tr>\n",
       "      <th>Protein</th>\n",
       "      <td>238.0</td>\n",
       "      <td>7.032773</td>\n",
       "      <td>4.893173</td>\n",
       "      <td>0.0</td>\n",
       "      <td>3.0</td>\n",
       "      <td>6.0</td>\n",
       "      <td>10.00</td>\n",
       "      <td>20.0</td>\n",
       "    </tr>\n",
       "  </tbody>\n",
       "</table>\n",
       "</div>"
      ],
      "text/plain": [
       "              count        mean         std  min    25%    50%     75%    max\n",
       "Calories      238.0  193.810924  103.668135  0.0  120.0  185.0  260.00  510.0\n",
       "TotalFat      238.0    2.931933    2.956133  0.0    0.2    2.5    4.50   15.0\n",
       "TransFat      238.0    1.318908    1.648097  0.0    0.1    0.5    2.00    9.0\n",
       "SaturatedFat  238.0    0.037815    0.071737  0.0    0.0    0.0    0.10    0.3\n",
       "Sodium        238.0    6.407563    8.679348  0.0    0.0    5.0   10.00   40.0\n",
       "TotalCarb     238.0  128.067227   82.656396  0.0   70.0  120.0  170.00  340.0\n",
       "Cholesterol   238.0   35.878151   20.927388  0.0   21.0   34.0   50.75   90.0\n",
       "DietaryFibre  238.0    0.815126    1.455189  0.0    0.0    0.0    1.00    8.0\n",
       "Sugars        238.0   32.819328   19.838082  0.0   18.0   32.0   43.75   84.0\n",
       "Protein       238.0    7.032773    4.893173  0.0    3.0    6.0   10.00   20.0"
      ]
     },
     "execution_count": 9,
     "metadata": {},
     "output_type": "execute_result"
    }
   ],
   "source": [
    "Shop.describe().T"
   ]
  },
  {
   "cell_type": "code",
   "execution_count": 16,
   "metadata": {},
   "outputs": [
    {
     "data": {
      "text/html": [
       "<div>\n",
       "<style scoped>\n",
       "    .dataframe tbody tr th:only-of-type {\n",
       "        vertical-align: middle;\n",
       "    }\n",
       "\n",
       "    .dataframe tbody tr th {\n",
       "        vertical-align: top;\n",
       "    }\n",
       "\n",
       "    .dataframe thead th {\n",
       "        text-align: right;\n",
       "    }\n",
       "</style>\n",
       "<table border=\"1\" class=\"dataframe\">\n",
       "  <thead>\n",
       "    <tr style=\"text-align: right;\">\n",
       "      <th></th>\n",
       "      <th>Calories</th>\n",
       "      <th>TotalFat</th>\n",
       "      <th>TransFat</th>\n",
       "      <th>SaturatedFat</th>\n",
       "      <th>Sodium</th>\n",
       "      <th>TotalCarb</th>\n",
       "      <th>Cholesterol</th>\n",
       "      <th>DietaryFibre</th>\n",
       "      <th>Sugars</th>\n",
       "      <th>Protein</th>\n",
       "    </tr>\n",
       "  </thead>\n",
       "  <tbody>\n",
       "    <tr>\n",
       "      <th>Calories</th>\n",
       "      <td>1.000000</td>\n",
       "      <td>0.636476</td>\n",
       "      <td>0.645691</td>\n",
       "      <td>0.332305</td>\n",
       "      <td>0.388229</td>\n",
       "      <td>0.796933</td>\n",
       "      <td>0.940820</td>\n",
       "      <td>0.386000</td>\n",
       "      <td>0.911007</td>\n",
       "      <td>0.581001</td>\n",
       "    </tr>\n",
       "    <tr>\n",
       "      <th>TotalFat</th>\n",
       "      <td>0.636476</td>\n",
       "      <td>1.000000</td>\n",
       "      <td>0.889677</td>\n",
       "      <td>0.618044</td>\n",
       "      <td>0.585912</td>\n",
       "      <td>0.460300</td>\n",
       "      <td>0.379539</td>\n",
       "      <td>0.257285</td>\n",
       "      <td>0.338384</td>\n",
       "      <td>0.549996</td>\n",
       "    </tr>\n",
       "    <tr>\n",
       "      <th>TransFat</th>\n",
       "      <td>0.645691</td>\n",
       "      <td>0.889677</td>\n",
       "      <td>1.000000</td>\n",
       "      <td>0.693413</td>\n",
       "      <td>0.706656</td>\n",
       "      <td>0.533636</td>\n",
       "      <td>0.445614</td>\n",
       "      <td>0.129895</td>\n",
       "      <td>0.426742</td>\n",
       "      <td>0.496012</td>\n",
       "    </tr>\n",
       "    <tr>\n",
       "      <th>SaturatedFat</th>\n",
       "      <td>0.332305</td>\n",
       "      <td>0.618044</td>\n",
       "      <td>0.693413</td>\n",
       "      <td>1.000000</td>\n",
       "      <td>0.920493</td>\n",
       "      <td>0.242933</td>\n",
       "      <td>0.164689</td>\n",
       "      <td>-0.094424</td>\n",
       "      <td>0.182713</td>\n",
       "      <td>0.288548</td>\n",
       "    </tr>\n",
       "    <tr>\n",
       "      <th>Sodium</th>\n",
       "      <td>0.388229</td>\n",
       "      <td>0.585912</td>\n",
       "      <td>0.706656</td>\n",
       "      <td>0.920493</td>\n",
       "      <td>1.000000</td>\n",
       "      <td>0.294795</td>\n",
       "      <td>0.201423</td>\n",
       "      <td>-0.061158</td>\n",
       "      <td>0.208555</td>\n",
       "      <td>0.496262</td>\n",
       "    </tr>\n",
       "    <tr>\n",
       "      <th>TotalCarb</th>\n",
       "      <td>0.796933</td>\n",
       "      <td>0.460300</td>\n",
       "      <td>0.533636</td>\n",
       "      <td>0.242933</td>\n",
       "      <td>0.294795</td>\n",
       "      <td>1.000000</td>\n",
       "      <td>0.765836</td>\n",
       "      <td>0.178905</td>\n",
       "      <td>0.770051</td>\n",
       "      <td>0.419695</td>\n",
       "    </tr>\n",
       "    <tr>\n",
       "      <th>Cholesterol</th>\n",
       "      <td>0.940820</td>\n",
       "      <td>0.379539</td>\n",
       "      <td>0.445614</td>\n",
       "      <td>0.164689</td>\n",
       "      <td>0.201423</td>\n",
       "      <td>0.765836</td>\n",
       "      <td>1.000000</td>\n",
       "      <td>0.346333</td>\n",
       "      <td>0.984227</td>\n",
       "      <td>0.365335</td>\n",
       "    </tr>\n",
       "    <tr>\n",
       "      <th>DietaryFibre</th>\n",
       "      <td>0.386000</td>\n",
       "      <td>0.257285</td>\n",
       "      <td>0.129895</td>\n",
       "      <td>-0.094424</td>\n",
       "      <td>-0.061158</td>\n",
       "      <td>0.178905</td>\n",
       "      <td>0.346333</td>\n",
       "      <td>1.000000</td>\n",
       "      <td>0.188848</td>\n",
       "      <td>0.539622</td>\n",
       "    </tr>\n",
       "    <tr>\n",
       "      <th>Sugars</th>\n",
       "      <td>0.911007</td>\n",
       "      <td>0.338384</td>\n",
       "      <td>0.426742</td>\n",
       "      <td>0.182713</td>\n",
       "      <td>0.208555</td>\n",
       "      <td>0.770051</td>\n",
       "      <td>0.984227</td>\n",
       "      <td>0.188848</td>\n",
       "      <td>1.000000</td>\n",
       "      <td>0.268728</td>\n",
       "    </tr>\n",
       "    <tr>\n",
       "      <th>Protein</th>\n",
       "      <td>0.581001</td>\n",
       "      <td>0.549996</td>\n",
       "      <td>0.496012</td>\n",
       "      <td>0.288548</td>\n",
       "      <td>0.496262</td>\n",
       "      <td>0.419695</td>\n",
       "      <td>0.365335</td>\n",
       "      <td>0.539622</td>\n",
       "      <td>0.268728</td>\n",
       "      <td>1.000000</td>\n",
       "    </tr>\n",
       "  </tbody>\n",
       "</table>\n",
       "</div>"
      ],
      "text/plain": [
       "              Calories  TotalFat  TransFat  SaturatedFat    Sodium  TotalCarb  \\\n",
       "Calories      1.000000  0.636476  0.645691      0.332305  0.388229   0.796933   \n",
       "TotalFat      0.636476  1.000000  0.889677      0.618044  0.585912   0.460300   \n",
       "TransFat      0.645691  0.889677  1.000000      0.693413  0.706656   0.533636   \n",
       "SaturatedFat  0.332305  0.618044  0.693413      1.000000  0.920493   0.242933   \n",
       "Sodium        0.388229  0.585912  0.706656      0.920493  1.000000   0.294795   \n",
       "TotalCarb     0.796933  0.460300  0.533636      0.242933  0.294795   1.000000   \n",
       "Cholesterol   0.940820  0.379539  0.445614      0.164689  0.201423   0.765836   \n",
       "DietaryFibre  0.386000  0.257285  0.129895     -0.094424 -0.061158   0.178905   \n",
       "Sugars        0.911007  0.338384  0.426742      0.182713  0.208555   0.770051   \n",
       "Protein       0.581001  0.549996  0.496012      0.288548  0.496262   0.419695   \n",
       "\n",
       "              Cholesterol  DietaryFibre    Sugars   Protein  \n",
       "Calories         0.940820      0.386000  0.911007  0.581001  \n",
       "TotalFat         0.379539      0.257285  0.338384  0.549996  \n",
       "TransFat         0.445614      0.129895  0.426742  0.496012  \n",
       "SaturatedFat     0.164689     -0.094424  0.182713  0.288548  \n",
       "Sodium           0.201423     -0.061158  0.208555  0.496262  \n",
       "TotalCarb        0.765836      0.178905  0.770051  0.419695  \n",
       "Cholesterol      1.000000      0.346333  0.984227  0.365335  \n",
       "DietaryFibre     0.346333      1.000000  0.188848  0.539622  \n",
       "Sugars           0.984227      0.188848  1.000000  0.268728  \n",
       "Protein          0.365335      0.539622  0.268728  1.000000  "
      ]
     },
     "execution_count": 16,
     "metadata": {},
     "output_type": "execute_result"
    }
   ],
   "source": [
    "Shop.corr()"
   ]
  },
  {
   "cell_type": "code",
   "execution_count": 10,
   "metadata": {},
   "outputs": [
    {
     "data": {
      "text/plain": [
       "<AxesSubplot:xlabel='Calories', ylabel='Density'>"
      ]
     },
     "execution_count": 10,
     "metadata": {},
     "output_type": "execute_result"
    },
    {
     "data": {
      "image/png": "[encoded data removed]",
      "text/plain": [
       "<Figure size 432x288 with 1 Axes>"
      ]
     },
     "metadata": {
      "needs_background": "light"
     },
     "output_type": "display_data"
    }
   ],
   "source": [
    "sns.kdeplot(Shop.Calories)"
   ]
  },
  {
   "cell_type": "code",
   "execution_count": 13,
   "metadata": {},
   "outputs": [
    {
     "name": "stderr",
     "output_type": "stream",
     "text": [
      "/Library/Frameworks/Python.framework/Versions/3.10/lib/python3.10/site-packages/seaborn/distributions.py:2619: FutureWarning: `distplot` is a deprecated function and will be removed in a future version. Please adapt your code to use either `displot` (a figure-level function with similar flexibility) or `histplot` (an axes-level function for histograms).\n",
      "  warnings.warn(msg, FutureWarning)\n"
     ]
    },
    {
     "data": {
      "text/plain": [
       "<AxesSubplot:xlabel='Calories', ylabel='Density'>"
      ]
     },
     "execution_count": 13,
     "metadata": {},
     "output_type": "execute_result"
    },
    {
     "data": {
      "image/png": "[encoded data removed]",
      "text/plain": [
       "<Figure size 432x288 with 1 Axes>"
      ]
     },
     "metadata": {
      "needs_background": "light"
     },
     "output_type": "display_data"
    }
   ],
   "source": [
    "sns.distplot(Shop.Calories)"
   ]
  },
  {
   "cell_type": "code",
   "execution_count": 20,
   "metadata": {},
   "outputs": [
    {
     "data": {
      "text/plain": [
       "Index(['Category', 'Beverage', 'Size', 'Milk'], dtype='object')"
      ]
     },
     "execution_count": 20,
     "metadata": {},
     "output_type": "execute_result"
    }
   ],
   "source": [
    "objnames = Shop.dtypes[Shop.dtypes == 'object'].index\n",
    "objnames"
   ]
  },
  {
   "cell_type": "code",
   "execution_count": 23,
   "metadata": {},
   "outputs": [
    {
     "data": {
      "text/plain": [
       "Index(['Calories', 'TotalFat', 'TransFat', 'SaturatedFat', 'Sodium',\n",
       "       'TotalCarb', 'Cholesterol', 'DietaryFibre', 'Sugars', 'Protein'],\n",
       "      dtype='object')"
      ]
     },
     "execution_count": 23,
     "metadata": {},
     "output_type": "execute_result"
    }
   ],
   "source": [
    "numericnames = Shop.dtypes[Shop.dtypes!='object'].index\n",
    "numericnames"
   ]
  },
  {
   "cell_type": "code",
   "execution_count": 46,
   "metadata": {},
   "outputs": [
    {
     "name": "stderr",
     "output_type": "stream",
     "text": [
      "/Library/Frameworks/Python.framework/Versions/3.10/lib/python3.10/site-packages/seaborn/_decorators.py:36: FutureWarning: Pass the following variable as a keyword arg: x. From version 0.12, the only valid positional argument will be `data`, and passing other arguments without an explicit keyword will result in an error or misinterpretation.\n",
      "  warnings.warn(\n",
      "/Library/Frameworks/Python.framework/Versions/3.10/lib/python3.10/site-packages/seaborn/_decorators.py:36: FutureWarning: Pass the following variable as a keyword arg: x. From version 0.12, the only valid positional argument will be `data`, and passing other arguments without an explicit keyword will result in an error or misinterpretation.\n",
      "  warnings.warn(\n",
      "/Library/Frameworks/Python.framework/Versions/3.10/lib/python3.10/site-packages/seaborn/_decorators.py:36: FutureWarning: Pass the following variable as a keyword arg: x. From version 0.12, the only valid positional argument will be `data`, and passing other arguments without an explicit keyword will result in an error or misinterpretation.\n",
      "  warnings.warn(\n",
      "/Library/Frameworks/Python.framework/Versions/3.10/lib/python3.10/site-packages/seaborn/_decorators.py:36: FutureWarning: Pass the following variable as a keyword arg: x. From version 0.12, the only valid positional argument will be `data`, and passing other arguments without an explicit keyword will result in an error or misinterpretation.\n",
      "  warnings.warn(\n",
      "/Library/Frameworks/Python.framework/Versions/3.10/lib/python3.10/site-packages/seaborn/_decorators.py:36: FutureWarning: Pass the following variable as a keyword arg: x. From version 0.12, the only valid positional argument will be `data`, and passing other arguments without an explicit keyword will result in an error or misinterpretation.\n",
      "  warnings.warn(\n",
      "/Library/Frameworks/Python.framework/Versions/3.10/lib/python3.10/site-packages/seaborn/_decorators.py:36: FutureWarning: Pass the following variable as a keyword arg: x. From version 0.12, the only valid positional argument will be `data`, and passing other arguments without an explicit keyword will result in an error or misinterpretation.\n",
      "  warnings.warn(\n",
      "/Library/Frameworks/Python.framework/Versions/3.10/lib/python3.10/site-packages/seaborn/_decorators.py:36: FutureWarning: Pass the following variable as a keyword arg: x. From version 0.12, the only valid positional argument will be `data`, and passing other arguments without an explicit keyword will result in an error or misinterpretation.\n",
      "  warnings.warn(\n",
      "/Library/Frameworks/Python.framework/Versions/3.10/lib/python3.10/site-packages/seaborn/_decorators.py:36: FutureWarning: Pass the following variable as a keyword arg: x. From version 0.12, the only valid positional argument will be `data`, and passing other arguments without an explicit keyword will result in an error or misinterpretation.\n",
      "  warnings.warn(\n",
      "/Library/Frameworks/Python.framework/Versions/3.10/lib/python3.10/site-packages/seaborn/_decorators.py:36: FutureWarning: Pass the following variable as a keyword arg: x. From version 0.12, the only valid positional argument will be `data`, and passing other arguments without an explicit keyword will result in an error or misinterpretation.\n",
      "  warnings.warn(\n",
      "/Library/Frameworks/Python.framework/Versions/3.10/lib/python3.10/site-packages/seaborn/_decorators.py:36: FutureWarning: Pass the following variable as a keyword arg: x. From version 0.12, the only valid positional argument will be `data`, and passing other arguments without an explicit keyword will result in an error or misinterpretation.\n",
      "  warnings.warn(\n"
     ]
    },
    {
     "data": {
      "image/png": "[encoded data removed]",
      "text/plain": [
       "<Figure size 1080x432 with 10 Axes>"
      ]
     },
     "metadata": {
      "needs_background": "light"
     },
     "output_type": "display_data"
    }
   ],
   "source": [
    "plt.figure(figsize=(15,6))\n",
    "count = 1\n",
    "for i in numericnames:\n",
    "    plt.subplot(2,5,count)\n",
    "    sns.boxplot(Shop.loc[:,i])\n",
    "    count = count + 1"
   ]
  },
  {
   "cell_type": "code",
   "execution_count": 45,
   "metadata": {},
   "outputs": [
    {
     "data": {
      "image/png": "[encoded data removed]",
      "text/plain": [
       "<Figure size 1080x432 with 10 Axes>"
      ]
     },
     "metadata": {
      "needs_background": "light"
     },
     "output_type": "display_data"
    }
   ],
   "source": [
    "plt.figure(figsize=(15,6))\n",
    "count = 1\n",
    "for i in numericnames:\n",
    "    plt.subplot(2,5,count)\n",
    "    sns.kdeplot(Shop.loc[:,i])\n",
    "    count = count + 1"
   ]
  },
  {
   "cell_type": "markdown",
   "metadata": {},
   "source": [
    "How much Colories in Beverages.??"
   ]
  },
  {
   "cell_type": "code",
   "execution_count": 48,
   "metadata": {},
   "outputs": [
    {
     "name": "stderr",
     "output_type": "stream",
     "text": [
      "/Library/Frameworks/Python.framework/Versions/3.10/lib/python3.10/site-packages/seaborn/_decorators.py:36: FutureWarning: Pass the following variables as keyword args: x, y. From version 0.12, the only valid positional argument will be `data`, and passing other arguments without an explicit keyword will result in an error or misinterpretation.\n",
      "  warnings.warn(\n"
     ]
    },
    {
     "data": {
      "text/plain": [
       "<AxesSubplot:xlabel='Calories', ylabel='Beverage'>"
      ]
     },
     "execution_count": 48,
     "metadata": {},
     "output_type": "execute_result"
    },
    {
     "data": {
      "image/png": "[encoded data removed]",
      "text/plain": [
       "<Figure size 720x648 with 1 Axes>"
      ]
     },
     "metadata": {
      "needs_background": "light"
     },
     "output_type": "display_data"
    }
   ],
   "source": [
    "plt.figure(figsize=(10,9))\n",
    "sns.boxplot(Shop.Calories,Shop.Beverage)"
   ]
  },
  {
   "cell_type": "code",
   "execution_count": 57,
   "metadata": {},
   "outputs": [
    {
     "name": "stderr",
     "output_type": "stream",
     "text": [
      "/Library/Frameworks/Python.framework/Versions/3.10/lib/python3.10/site-packages/seaborn/_decorators.py:36: FutureWarning: Pass the following variables as keyword args: x, y. From version 0.12, the only valid positional argument will be `data`, and passing other arguments without an explicit keyword will result in an error or misinterpretation.\n",
      "  warnings.warn(\n"
     ]
    },
    {
     "data": {
      "text/plain": [
       "<AxesSubplot:xlabel='Calories', ylabel='Category'>"
      ]
     },
     "execution_count": 57,
     "metadata": {},
     "output_type": "execute_result"
    },
    {
     "data": {
      "image/png": "[encoded data removed]",
      "text/plain": [
       "<Figure size 720x648 with 1 Axes>"
      ]
     },
     "metadata": {
      "needs_background": "light"
     },
     "output_type": "display_data"
    }
   ],
   "source": [
    "plt.figure(figsize=(10,9))\n",
    "sns.boxplot(Shop.Calories, Shop.Category)"
   ]
  },
  {
   "cell_type": "code",
   "execution_count": 65,
   "metadata": {},
   "outputs": [
    {
     "data": {
      "text/html": [
       "<div>\n",
       "<style scoped>\n",
       "    .dataframe tbody tr th:only-of-type {\n",
       "        vertical-align: middle;\n",
       "    }\n",
       "\n",
       "    .dataframe tbody tr th {\n",
       "        vertical-align: top;\n",
       "    }\n",
       "\n",
       "    .dataframe thead th {\n",
       "        text-align: right;\n",
       "    }\n",
       "</style>\n",
       "<table border=\"1\" class=\"dataframe\">\n",
       "  <thead>\n",
       "    <tr style=\"text-align: right;\">\n",
       "      <th></th>\n",
       "      <th>Calories</th>\n",
       "      <th>TotalFat</th>\n",
       "      <th>TransFat</th>\n",
       "      <th>SaturatedFat</th>\n",
       "      <th>Sodium</th>\n",
       "      <th>TotalCarb</th>\n",
       "      <th>Cholesterol</th>\n",
       "      <th>DietaryFibre</th>\n",
       "      <th>Sugars</th>\n",
       "      <th>Protein</th>\n",
       "    </tr>\n",
       "  </thead>\n",
       "  <tbody>\n",
       "    <tr>\n",
       "      <th>Calories</th>\n",
       "      <td>1.000000</td>\n",
       "      <td>0.636476</td>\n",
       "      <td>0.645691</td>\n",
       "      <td>0.332305</td>\n",
       "      <td>0.388229</td>\n",
       "      <td>0.796933</td>\n",
       "      <td>0.940820</td>\n",
       "      <td>0.386000</td>\n",
       "      <td>0.911007</td>\n",
       "      <td>0.581001</td>\n",
       "    </tr>\n",
       "    <tr>\n",
       "      <th>TotalFat</th>\n",
       "      <td>0.636476</td>\n",
       "      <td>1.000000</td>\n",
       "      <td>0.889677</td>\n",
       "      <td>0.618044</td>\n",
       "      <td>0.585912</td>\n",
       "      <td>0.460300</td>\n",
       "      <td>0.379539</td>\n",
       "      <td>0.257285</td>\n",
       "      <td>0.338384</td>\n",
       "      <td>0.549996</td>\n",
       "    </tr>\n",
       "    <tr>\n",
       "      <th>TransFat</th>\n",
       "      <td>0.645691</td>\n",
       "      <td>0.889677</td>\n",
       "      <td>1.000000</td>\n",
       "      <td>0.693413</td>\n",
       "      <td>0.706656</td>\n",
       "      <td>0.533636</td>\n",
       "      <td>0.445614</td>\n",
       "      <td>0.129895</td>\n",
       "      <td>0.426742</td>\n",
       "      <td>0.496012</td>\n",
       "    </tr>\n",
       "    <tr>\n",
       "      <th>SaturatedFat</th>\n",
       "      <td>0.332305</td>\n",
       "      <td>0.618044</td>\n",
       "      <td>0.693413</td>\n",
       "      <td>1.000000</td>\n",
       "      <td>0.920493</td>\n",
       "      <td>0.242933</td>\n",
       "      <td>0.164689</td>\n",
       "      <td>-0.094424</td>\n",
       "      <td>0.182713</td>\n",
       "      <td>0.288548</td>\n",
       "    </tr>\n",
       "    <tr>\n",
       "      <th>Sodium</th>\n",
       "      <td>0.388229</td>\n",
       "      <td>0.585912</td>\n",
       "      <td>0.706656</td>\n",
       "      <td>0.920493</td>\n",
       "      <td>1.000000</td>\n",
       "      <td>0.294795</td>\n",
       "      <td>0.201423</td>\n",
       "      <td>-0.061158</td>\n",
       "      <td>0.208555</td>\n",
       "      <td>0.496262</td>\n",
       "    </tr>\n",
       "    <tr>\n",
       "      <th>TotalCarb</th>\n",
       "      <td>0.796933</td>\n",
       "      <td>0.460300</td>\n",
       "      <td>0.533636</td>\n",
       "      <td>0.242933</td>\n",
       "      <td>0.294795</td>\n",
       "      <td>1.000000</td>\n",
       "      <td>0.765836</td>\n",
       "      <td>0.178905</td>\n",
       "      <td>0.770051</td>\n",
       "      <td>0.419695</td>\n",
       "    </tr>\n",
       "    <tr>\n",
       "      <th>Cholesterol</th>\n",
       "      <td>0.940820</td>\n",
       "      <td>0.379539</td>\n",
       "      <td>0.445614</td>\n",
       "      <td>0.164689</td>\n",
       "      <td>0.201423</td>\n",
       "      <td>0.765836</td>\n",
       "      <td>1.000000</td>\n",
       "      <td>0.346333</td>\n",
       "      <td>0.984227</td>\n",
       "      <td>0.365335</td>\n",
       "    </tr>\n",
       "    <tr>\n",
       "      <th>DietaryFibre</th>\n",
       "      <td>0.386000</td>\n",
       "      <td>0.257285</td>\n",
       "      <td>0.129895</td>\n",
       "      <td>-0.094424</td>\n",
       "      <td>-0.061158</td>\n",
       "      <td>0.178905</td>\n",
       "      <td>0.346333</td>\n",
       "      <td>1.000000</td>\n",
       "      <td>0.188848</td>\n",
       "      <td>0.539622</td>\n",
       "    </tr>\n",
       "    <tr>\n",
       "      <th>Sugars</th>\n",
       "      <td>0.911007</td>\n",
       "      <td>0.338384</td>\n",
       "      <td>0.426742</td>\n",
       "      <td>0.182713</td>\n",
       "      <td>0.208555</td>\n",
       "      <td>0.770051</td>\n",
       "      <td>0.984227</td>\n",
       "      <td>0.188848</td>\n",
       "      <td>1.000000</td>\n",
       "      <td>0.268728</td>\n",
       "    </tr>\n",
       "    <tr>\n",
       "      <th>Protein</th>\n",
       "      <td>0.581001</td>\n",
       "      <td>0.549996</td>\n",
       "      <td>0.496012</td>\n",
       "      <td>0.288548</td>\n",
       "      <td>0.496262</td>\n",
       "      <td>0.419695</td>\n",
       "      <td>0.365335</td>\n",
       "      <td>0.539622</td>\n",
       "      <td>0.268728</td>\n",
       "      <td>1.000000</td>\n",
       "    </tr>\n",
       "  </tbody>\n",
       "</table>\n",
       "</div>"
      ],
      "text/plain": [
       "              Calories  TotalFat  TransFat  SaturatedFat    Sodium  TotalCarb  \\\n",
       "Calories      1.000000  0.636476  0.645691      0.332305  0.388229   0.796933   \n",
       "TotalFat      0.636476  1.000000  0.889677      0.618044  0.585912   0.460300   \n",
       "TransFat      0.645691  0.889677  1.000000      0.693413  0.706656   0.533636   \n",
       "SaturatedFat  0.332305  0.618044  0.693413      1.000000  0.920493   0.242933   \n",
       "Sodium        0.388229  0.585912  0.706656      0.920493  1.000000   0.294795   \n",
       "TotalCarb     0.796933  0.460300  0.533636      0.242933  0.294795   1.000000   \n",
       "Cholesterol   0.940820  0.379539  0.445614      0.164689  0.201423   0.765836   \n",
       "DietaryFibre  0.386000  0.257285  0.129895     -0.094424 -0.061158   0.178905   \n",
       "Sugars        0.911007  0.338384  0.426742      0.182713  0.208555   0.770051   \n",
       "Protein       0.581001  0.549996  0.496012      0.288548  0.496262   0.419695   \n",
       "\n",
       "              Cholesterol  DietaryFibre    Sugars   Protein  \n",
       "Calories         0.940820      0.386000  0.911007  0.581001  \n",
       "TotalFat         0.379539      0.257285  0.338384  0.549996  \n",
       "TransFat         0.445614      0.129895  0.426742  0.496012  \n",
       "SaturatedFat     0.164689     -0.094424  0.182713  0.288548  \n",
       "Sodium           0.201423     -0.061158  0.208555  0.496262  \n",
       "TotalCarb        0.765836      0.178905  0.770051  0.419695  \n",
       "Cholesterol      1.000000      0.346333  0.984227  0.365335  \n",
       "DietaryFibre     0.346333      1.000000  0.188848  0.539622  \n",
       "Sugars           0.984227      0.188848  1.000000  0.268728  \n",
       "Protein          0.365335      0.539622  0.268728  1.000000  "
      ]
     },
     "execution_count": 65,
     "metadata": {},
     "output_type": "execute_result"
    }
   ],
   "source": [
    "Shop.corr()"
   ]
  },
  {
   "cell_type": "code",
   "execution_count": 62,
   "metadata": {},
   "outputs": [
    {
     "data": {
      "text/plain": [
       "<AxesSubplot:>"
      ]
     },
     "execution_count": 62,
     "metadata": {},
     "output_type": "execute_result"
    },
    {
     "data": {
      "image/png": "[encoded data removed]",
      "text/plain": [
       "<Figure size 720x720 with 2 Axes>"
      ]
     },
     "metadata": {
      "needs_background": "light"
     },
     "output_type": "display_data"
    }
   ],
   "source": [
    "plt.figure(figsize=(10,10))\n",
    "sns.heatmap(Shop.corr(),annot = True,cmap='rainbow')"
   ]
  },
  {
   "cell_type": "code",
   "execution_count": 70,
   "metadata": {},
   "outputs": [
    {
     "data": {
      "text/plain": [
       "Nonfat Milk    81\n",
       "Soymilk        65\n",
       "2% Milk        50\n",
       "None           27\n",
       "Whole Milk     15\n",
       "Name: Milk, dtype: int64"
      ]
     },
     "execution_count": 70,
     "metadata": {},
     "output_type": "execute_result"
    }
   ],
   "source": [
    "Shop.Milk.value_counts()"
   ]
  },
  {
   "cell_type": "code",
   "execution_count": 71,
   "metadata": {},
   "outputs": [
    {
     "data": {
      "text/plain": [
       "Classic Espresso Drinks             58\n",
       "Tazo Tea Drinks                     52\n",
       "Signature Espresso Drinks           40\n",
       "Frappuccino Blended Coffee          36\n",
       "Shaken Iced Beverages               18\n",
       "Frappuccino Light Blended Coffee    12\n",
       "Smoothies                            9\n",
       "Frappuccino Blended Creme            9\n",
       "Coffee                               4\n",
       "Name: Category, dtype: int64"
      ]
     },
     "execution_count": 71,
     "metadata": {},
     "output_type": "execute_result"
    }
   ],
   "source": [
    "Shop.Category.value_counts()"
   ]
  },
  {
   "cell_type": "code",
   "execution_count": 72,
   "metadata": {},
   "outputs": [
    {
     "data": {
      "text/plain": [
       "Grande    72\n",
       "Tall      63\n",
       "Venti     63\n",
       "Short     38\n",
       "Single     1\n",
       "Double     1\n",
       "Name: Size, dtype: int64"
      ]
     },
     "execution_count": 72,
     "metadata": {},
     "output_type": "execute_result"
    }
   ],
   "source": [
    "Shop.Size.value_counts()"
   ]
  },
  {
   "cell_type": "code",
   "execution_count": 13,
   "metadata": {},
   "outputs": [
    {
     "data": {
      "text/plain": [
       "Tazo Full-Leaf Red Tea Latte (Vanilla Rooibos)        12\n",
       "Caffe Latte                                           12\n",
       "Caffe Mocha (Without Whipped Cream)                   12\n",
       "Vanilla Latte (Or Other Flavoured Latte)              12\n",
       "Cappuccino                                            12\n",
       "Caramel Macchiato                                     12\n",
       "White Chocolate Mocha (Without Whipped Cream)         12\n",
       "Hot Chocolate (Without Whipped Cream)                 12\n",
       "Coffee                                                12\n",
       "Tazo Chai Tea Latte                                   12\n",
       "Tazo Green Tea Latte                                  12\n",
       "Tazo Full-Leaf Tea Latte                              12\n",
       "Java Chip (Without Whipped Cream)                      9\n",
       "Caramel (Without Whipped Cream)                        9\n",
       "Mocha (Without Whipped Cream)                          9\n",
       "Iced Brewed Coffee (With Milk & Classic Syrup)         9\n",
       "Strawberries & Creme (Without Whipped Cream)           9\n",
       "Tazo Tea                                               4\n",
       "Caramel Apple Spice (Without Whipped Cream)            4\n",
       "Skinny Latte (Any Flavour)                             4\n",
       "Caffe Americano                                        4\n",
       "Brewed Coffee                                          4\n",
       "Iced Brewed Coffee (With Classic Syrup)                3\n",
       "Shaken Iced Tazo Tea (With Classic Syrup)              3\n",
       "Shaken Iced Tazo Tea Lemonade (With Classic Syrup)     3\n",
       "Banana Chocolate Smoothie                              3\n",
       "Orange Mango Banana Smoothie                           3\n",
       "Strawberry Banana Smoothie                             3\n",
       "Mocha                                                  3\n",
       "Caramel                                                3\n",
       "Java Chip                                              3\n",
       "Espresso                                               2\n",
       "Name: Beverage, dtype: int64"
      ]
     },
     "execution_count": 13,
     "metadata": {},
     "output_type": "execute_result"
    }
   ],
   "source": [
    "Shop.Beverage.value_counts()"
   ]
  },
  {
   "cell_type": "code",
   "execution_count": 75,
   "metadata": {},
   "outputs": [
    {
     "data": {
      "text/html": [
       "<div>\n",
       "<style scoped>\n",
       "    .dataframe tbody tr th:only-of-type {\n",
       "        vertical-align: middle;\n",
       "    }\n",
       "\n",
       "    .dataframe tbody tr th {\n",
       "        vertical-align: top;\n",
       "    }\n",
       "\n",
       "    .dataframe thead th {\n",
       "        text-align: right;\n",
       "    }\n",
       "</style>\n",
       "<table border=\"1\" class=\"dataframe\">\n",
       "  <thead>\n",
       "    <tr style=\"text-align: right;\">\n",
       "      <th></th>\n",
       "      <th>Calories</th>\n",
       "      <th>TotalFat</th>\n",
       "      <th>TransFat</th>\n",
       "      <th>SaturatedFat</th>\n",
       "      <th>Sodium</th>\n",
       "      <th>TotalCarb</th>\n",
       "      <th>Cholesterol</th>\n",
       "      <th>DietaryFibre</th>\n",
       "      <th>Sugars</th>\n",
       "      <th>Protein</th>\n",
       "    </tr>\n",
       "    <tr>\n",
       "      <th>Category</th>\n",
       "      <th></th>\n",
       "      <th></th>\n",
       "      <th></th>\n",
       "      <th></th>\n",
       "      <th></th>\n",
       "      <th></th>\n",
       "      <th></th>\n",
       "      <th></th>\n",
       "      <th></th>\n",
       "      <th></th>\n",
       "    </tr>\n",
       "  </thead>\n",
       "  <tbody>\n",
       "    <tr>\n",
       "      <th>Classic Espresso Drinks</th>\n",
       "      <td>140.172414</td>\n",
       "      <td>3.127586</td>\n",
       "      <td>1.210345</td>\n",
       "      <td>0.046552</td>\n",
       "      <td>8.103448</td>\n",
       "      <td>104.672414</td>\n",
       "      <td>20.327586</td>\n",
       "      <td>0.620690</td>\n",
       "      <td>16.965517</td>\n",
       "      <td>8.686207</td>\n",
       "    </tr>\n",
       "    <tr>\n",
       "      <th>Coffee</th>\n",
       "      <td>4.250000</td>\n",
       "      <td>0.100000</td>\n",
       "      <td>0.000000</td>\n",
       "      <td>0.000000</td>\n",
       "      <td>0.000000</td>\n",
       "      <td>8.750000</td>\n",
       "      <td>0.000000</td>\n",
       "      <td>0.000000</td>\n",
       "      <td>0.000000</td>\n",
       "      <td>0.700000</td>\n",
       "    </tr>\n",
       "    <tr>\n",
       "      <th>Frappuccino Blended Coffee</th>\n",
       "      <td>276.944444</td>\n",
       "      <td>3.002778</td>\n",
       "      <td>1.700000</td>\n",
       "      <td>0.038889</td>\n",
       "      <td>4.444444</td>\n",
       "      <td>230.277778</td>\n",
       "      <td>59.638889</td>\n",
       "      <td>0.777778</td>\n",
       "      <td>57.083333</td>\n",
       "      <td>4.222222</td>\n",
       "    </tr>\n",
       "    <tr>\n",
       "      <th>Frappuccino Blended Creme</th>\n",
       "      <td>248.888889</td>\n",
       "      <td>2.244444</td>\n",
       "      <td>0.844444</td>\n",
       "      <td>0.044444</td>\n",
       "      <td>4.444444</td>\n",
       "      <td>193.888889</td>\n",
       "      <td>53.111111</td>\n",
       "      <td>0.333333</td>\n",
       "      <td>51.555556</td>\n",
       "      <td>4.111111</td>\n",
       "    </tr>\n",
       "    <tr>\n",
       "      <th>Frappuccino Light Blended Coffee</th>\n",
       "      <td>162.500000</td>\n",
       "      <td>1.258333</td>\n",
       "      <td>0.900000</td>\n",
       "      <td>0.000000</td>\n",
       "      <td>1.666667</td>\n",
       "      <td>217.500000</td>\n",
       "      <td>34.500000</td>\n",
       "      <td>0.666667</td>\n",
       "      <td>32.416667</td>\n",
       "      <td>4.250000</td>\n",
       "    </tr>\n",
       "    <tr>\n",
       "      <th>Shaken Iced Beverages</th>\n",
       "      <td>114.444444</td>\n",
       "      <td>0.472222</td>\n",
       "      <td>0.138889</td>\n",
       "      <td>0.005556</td>\n",
       "      <td>1.111111</td>\n",
       "      <td>18.277778</td>\n",
       "      <td>26.166667</td>\n",
       "      <td>0.000000</td>\n",
       "      <td>26.000000</td>\n",
       "      <td>1.344444</td>\n",
       "    </tr>\n",
       "    <tr>\n",
       "      <th>Signature Espresso Drinks</th>\n",
       "      <td>250.000000</td>\n",
       "      <td>5.275000</td>\n",
       "      <td>2.712500</td>\n",
       "      <td>0.050000</td>\n",
       "      <td>9.625000</td>\n",
       "      <td>138.250000</td>\n",
       "      <td>42.775000</td>\n",
       "      <td>0.775000</td>\n",
       "      <td>38.600000</td>\n",
       "      <td>9.875000</td>\n",
       "    </tr>\n",
       "    <tr>\n",
       "      <th>Smoothies</th>\n",
       "      <td>282.222222</td>\n",
       "      <td>2.333333</td>\n",
       "      <td>0.933333</td>\n",
       "      <td>0.011111</td>\n",
       "      <td>6.111111</td>\n",
       "      <td>132.777778</td>\n",
       "      <td>54.555556</td>\n",
       "      <td>6.777778</td>\n",
       "      <td>36.777778</td>\n",
       "      <td>17.111111</td>\n",
       "    </tr>\n",
       "    <tr>\n",
       "      <th>Tazo Tea Drinks</th>\n",
       "      <td>177.307692</td>\n",
       "      <td>2.540385</td>\n",
       "      <td>0.859615</td>\n",
       "      <td>0.044231</td>\n",
       "      <td>7.211538</td>\n",
       "      <td>89.903846</td>\n",
       "      <td>31.692308</td>\n",
       "      <td>0.519231</td>\n",
       "      <td>30.307692</td>\n",
       "      <td>6.807692</td>\n",
       "    </tr>\n",
       "  </tbody>\n",
       "</table>\n",
       "</div>"
      ],
      "text/plain": [
       "                                    Calories  TotalFat  TransFat  \\\n",
       "Category                                                           \n",
       "Classic Espresso Drinks           140.172414  3.127586  1.210345   \n",
       "Coffee                              4.250000  0.100000  0.000000   \n",
       "Frappuccino Blended Coffee        276.944444  3.002778  1.700000   \n",
       "Frappuccino Blended Creme         248.888889  2.244444  0.844444   \n",
       "Frappuccino Light Blended Coffee  162.500000  1.258333  0.900000   \n",
       "Shaken Iced Beverages             114.444444  0.472222  0.138889   \n",
       "Signature Espresso Drinks         250.000000  5.275000  2.712500   \n",
       "Smoothies                         282.222222  2.333333  0.933333   \n",
       "Tazo Tea Drinks                   177.307692  2.540385  0.859615   \n",
       "\n",
       "                                  SaturatedFat    Sodium   TotalCarb  \\\n",
       "Category                                                               \n",
       "Classic Espresso Drinks               0.046552  8.103448  104.672414   \n",
       "Coffee                                0.000000  0.000000    8.750000   \n",
       "Frappuccino Blended Coffee            0.038889  4.444444  230.277778   \n",
       "Frappuccino Blended Creme             0.044444  4.444444  193.888889   \n",
       "Frappuccino Light Blended Coffee      0.000000  1.666667  217.500000   \n",
       "Shaken Iced Beverages                 0.005556  1.111111   18.277778   \n",
       "Signature Espresso Drinks             0.050000  9.625000  138.250000   \n",
       "Smoothies                             0.011111  6.111111  132.777778   \n",
       "Tazo Tea Drinks                       0.044231  7.211538   89.903846   \n",
       "\n",
       "                                  Cholesterol  DietaryFibre     Sugars  \\\n",
       "Category                                                                 \n",
       "Classic Espresso Drinks             20.327586      0.620690  16.965517   \n",
       "Coffee                               0.000000      0.000000   0.000000   \n",
       "Frappuccino Blended Coffee          59.638889      0.777778  57.083333   \n",
       "Frappuccino Blended Creme           53.111111      0.333333  51.555556   \n",
       "Frappuccino Light Blended Coffee    34.500000      0.666667  32.416667   \n",
       "Shaken Iced Beverages               26.166667      0.000000  26.000000   \n",
       "Signature Espresso Drinks           42.775000      0.775000  38.600000   \n",
       "Smoothies                           54.555556      6.777778  36.777778   \n",
       "Tazo Tea Drinks                     31.692308      0.519231  30.307692   \n",
       "\n",
       "                                    Protein  \n",
       "Category                                     \n",
       "Classic Espresso Drinks            8.686207  \n",
       "Coffee                             0.700000  \n",
       "Frappuccino Blended Coffee         4.222222  \n",
       "Frappuccino Blended Creme          4.111111  \n",
       "Frappuccino Light Blended Coffee   4.250000  \n",
       "Shaken Iced Beverages              1.344444  \n",
       "Signature Espresso Drinks          9.875000  \n",
       "Smoothies                         17.111111  \n",
       "Tazo Tea Drinks                    6.807692  "
      ]
     },
     "execution_count": 75,
     "metadata": {},
     "output_type": "execute_result"
    }
   ],
   "source": [
    "Shop.groupby('Category').mean().sort_values('Category',ascending = True)"
   ]
  },
  {
   "cell_type": "code",
   "execution_count": 78,
   "metadata": {},
   "outputs": [
    {
     "data": {
      "text/html": [
       "<div>\n",
       "<style scoped>\n",
       "    .dataframe tbody tr th:only-of-type {\n",
       "        vertical-align: middle;\n",
       "    }\n",
       "\n",
       "    .dataframe tbody tr th {\n",
       "        vertical-align: top;\n",
       "    }\n",
       "\n",
       "    .dataframe thead th {\n",
       "        text-align: right;\n",
       "    }\n",
       "</style>\n",
       "<table border=\"1\" class=\"dataframe\">\n",
       "  <thead>\n",
       "    <tr style=\"text-align: right;\">\n",
       "      <th></th>\n",
       "      <th>Calories</th>\n",
       "      <th>TotalFat</th>\n",
       "      <th>TransFat</th>\n",
       "      <th>SaturatedFat</th>\n",
       "      <th>Sodium</th>\n",
       "      <th>TotalCarb</th>\n",
       "      <th>Cholesterol</th>\n",
       "      <th>DietaryFibre</th>\n",
       "      <th>Sugars</th>\n",
       "      <th>Protein</th>\n",
       "    </tr>\n",
       "    <tr>\n",
       "      <th>Category</th>\n",
       "      <th></th>\n",
       "      <th></th>\n",
       "      <th></th>\n",
       "      <th></th>\n",
       "      <th></th>\n",
       "      <th></th>\n",
       "      <th></th>\n",
       "      <th></th>\n",
       "      <th></th>\n",
       "      <th></th>\n",
       "    </tr>\n",
       "  </thead>\n",
       "  <tbody>\n",
       "    <tr>\n",
       "      <th>Smoothies</th>\n",
       "      <td>282.222222</td>\n",
       "      <td>2.333333</td>\n",
       "      <td>0.933333</td>\n",
       "      <td>0.011111</td>\n",
       "      <td>6.111111</td>\n",
       "      <td>132.777778</td>\n",
       "      <td>54.555556</td>\n",
       "      <td>6.777778</td>\n",
       "      <td>36.777778</td>\n",
       "      <td>17.111111</td>\n",
       "    </tr>\n",
       "    <tr>\n",
       "      <th>Signature Espresso Drinks</th>\n",
       "      <td>250.000000</td>\n",
       "      <td>5.275000</td>\n",
       "      <td>2.712500</td>\n",
       "      <td>0.050000</td>\n",
       "      <td>9.625000</td>\n",
       "      <td>138.250000</td>\n",
       "      <td>42.775000</td>\n",
       "      <td>0.775000</td>\n",
       "      <td>38.600000</td>\n",
       "      <td>9.875000</td>\n",
       "    </tr>\n",
       "    <tr>\n",
       "      <th>Classic Espresso Drinks</th>\n",
       "      <td>140.172414</td>\n",
       "      <td>3.127586</td>\n",
       "      <td>1.210345</td>\n",
       "      <td>0.046552</td>\n",
       "      <td>8.103448</td>\n",
       "      <td>104.672414</td>\n",
       "      <td>20.327586</td>\n",
       "      <td>0.620690</td>\n",
       "      <td>16.965517</td>\n",
       "      <td>8.686207</td>\n",
       "    </tr>\n",
       "    <tr>\n",
       "      <th>Tazo Tea Drinks</th>\n",
       "      <td>177.307692</td>\n",
       "      <td>2.540385</td>\n",
       "      <td>0.859615</td>\n",
       "      <td>0.044231</td>\n",
       "      <td>7.211538</td>\n",
       "      <td>89.903846</td>\n",
       "      <td>31.692308</td>\n",
       "      <td>0.519231</td>\n",
       "      <td>30.307692</td>\n",
       "      <td>6.807692</td>\n",
       "    </tr>\n",
       "    <tr>\n",
       "      <th>Frappuccino Light Blended Coffee</th>\n",
       "      <td>162.500000</td>\n",
       "      <td>1.258333</td>\n",
       "      <td>0.900000</td>\n",
       "      <td>0.000000</td>\n",
       "      <td>1.666667</td>\n",
       "      <td>217.500000</td>\n",
       "      <td>34.500000</td>\n",
       "      <td>0.666667</td>\n",
       "      <td>32.416667</td>\n",
       "      <td>4.250000</td>\n",
       "    </tr>\n",
       "    <tr>\n",
       "      <th>Frappuccino Blended Coffee</th>\n",
       "      <td>276.944444</td>\n",
       "      <td>3.002778</td>\n",
       "      <td>1.700000</td>\n",
       "      <td>0.038889</td>\n",
       "      <td>4.444444</td>\n",
       "      <td>230.277778</td>\n",
       "      <td>59.638889</td>\n",
       "      <td>0.777778</td>\n",
       "      <td>57.083333</td>\n",
       "      <td>4.222222</td>\n",
       "    </tr>\n",
       "    <tr>\n",
       "      <th>Frappuccino Blended Creme</th>\n",
       "      <td>248.888889</td>\n",
       "      <td>2.244444</td>\n",
       "      <td>0.844444</td>\n",
       "      <td>0.044444</td>\n",
       "      <td>4.444444</td>\n",
       "      <td>193.888889</td>\n",
       "      <td>53.111111</td>\n",
       "      <td>0.333333</td>\n",
       "      <td>51.555556</td>\n",
       "      <td>4.111111</td>\n",
       "    </tr>\n",
       "    <tr>\n",
       "      <th>Shaken Iced Beverages</th>\n",
       "      <td>114.444444</td>\n",
       "      <td>0.472222</td>\n",
       "      <td>0.138889</td>\n",
       "      <td>0.005556</td>\n",
       "      <td>1.111111</td>\n",
       "      <td>18.277778</td>\n",
       "      <td>26.166667</td>\n",
       "      <td>0.000000</td>\n",
       "      <td>26.000000</td>\n",
       "      <td>1.344444</td>\n",
       "    </tr>\n",
       "    <tr>\n",
       "      <th>Coffee</th>\n",
       "      <td>4.250000</td>\n",
       "      <td>0.100000</td>\n",
       "      <td>0.000000</td>\n",
       "      <td>0.000000</td>\n",
       "      <td>0.000000</td>\n",
       "      <td>8.750000</td>\n",
       "      <td>0.000000</td>\n",
       "      <td>0.000000</td>\n",
       "      <td>0.000000</td>\n",
       "      <td>0.700000</td>\n",
       "    </tr>\n",
       "  </tbody>\n",
       "</table>\n",
       "</div>"
      ],
      "text/plain": [
       "                                    Calories  TotalFat  TransFat  \\\n",
       "Category                                                           \n",
       "Smoothies                         282.222222  2.333333  0.933333   \n",
       "Signature Espresso Drinks         250.000000  5.275000  2.712500   \n",
       "Classic Espresso Drinks           140.172414  3.127586  1.210345   \n",
       "Tazo Tea Drinks                   177.307692  2.540385  0.859615   \n",
       "Frappuccino Light Blended Coffee  162.500000  1.258333  0.900000   \n",
       "Frappuccino Blended Coffee        276.944444  3.002778  1.700000   \n",
       "Frappuccino Blended Creme         248.888889  2.244444  0.844444   \n",
       "Shaken Iced Beverages             114.444444  0.472222  0.138889   \n",
       "Coffee                              4.250000  0.100000  0.000000   \n",
       "\n",
       "                                  SaturatedFat    Sodium   TotalCarb  \\\n",
       "Category                                                               \n",
       "Smoothies                             0.011111  6.111111  132.777778   \n",
       "Signature Espresso Drinks             0.050000  9.625000  138.250000   \n",
       "Classic Espresso Drinks               0.046552  8.103448  104.672414   \n",
       "Tazo Tea Drinks                       0.044231  7.211538   89.903846   \n",
       "Frappuccino Light Blended Coffee      0.000000  1.666667  217.500000   \n",
       "Frappuccino Blended Coffee            0.038889  4.444444  230.277778   \n",
       "Frappuccino Blended Creme             0.044444  4.444444  193.888889   \n",
       "Shaken Iced Beverages                 0.005556  1.111111   18.277778   \n",
       "Coffee                                0.000000  0.000000    8.750000   \n",
       "\n",
       "                                  Cholesterol  DietaryFibre     Sugars  \\\n",
       "Category                                                                 \n",
       "Smoothies                           54.555556      6.777778  36.777778   \n",
       "Signature Espresso Drinks           42.775000      0.775000  38.600000   \n",
       "Classic Espresso Drinks             20.327586      0.620690  16.965517   \n",
       "Tazo Tea Drinks                     31.692308      0.519231  30.307692   \n",
       "Frappuccino Light Blended Coffee    34.500000      0.666667  32.416667   \n",
       "Frappuccino Blended Coffee          59.638889      0.777778  57.083333   \n",
       "Frappuccino Blended Creme           53.111111      0.333333  51.555556   \n",
       "Shaken Iced Beverages               26.166667      0.000000  26.000000   \n",
       "Coffee                               0.000000      0.000000   0.000000   \n",
       "\n",
       "                                    Protein  \n",
       "Category                                     \n",
       "Smoothies                         17.111111  \n",
       "Signature Espresso Drinks          9.875000  \n",
       "Classic Espresso Drinks            8.686207  \n",
       "Tazo Tea Drinks                    6.807692  \n",
       "Frappuccino Light Blended Coffee   4.250000  \n",
       "Frappuccino Blended Coffee         4.222222  \n",
       "Frappuccino Blended Creme          4.111111  \n",
       "Shaken Iced Beverages              1.344444  \n",
       "Coffee                             0.700000  "
      ]
     },
     "execution_count": 78,
     "metadata": {},
     "output_type": "execute_result"
    }
   ],
   "source": [
    "Shop.groupby('Category').mean().sort_values('Protein',ascending = False)"
   ]
  },
  {
   "cell_type": "code",
   "execution_count": 79,
   "metadata": {},
   "outputs": [
    {
     "data": {
      "text/html": [
       "<div>\n",
       "<style scoped>\n",
       "    .dataframe tbody tr th:only-of-type {\n",
       "        vertical-align: middle;\n",
       "    }\n",
       "\n",
       "    .dataframe tbody tr th {\n",
       "        vertical-align: top;\n",
       "    }\n",
       "\n",
       "    .dataframe thead th {\n",
       "        text-align: right;\n",
       "    }\n",
       "</style>\n",
       "<table border=\"1\" class=\"dataframe\">\n",
       "  <thead>\n",
       "    <tr style=\"text-align: right;\">\n",
       "      <th>Milk</th>\n",
       "      <th>2% Milk</th>\n",
       "      <th>None</th>\n",
       "      <th>Nonfat Milk</th>\n",
       "      <th>Soymilk</th>\n",
       "      <th>Whole Milk</th>\n",
       "    </tr>\n",
       "    <tr>\n",
       "      <th>Category</th>\n",
       "      <th></th>\n",
       "      <th></th>\n",
       "      <th></th>\n",
       "      <th></th>\n",
       "      <th></th>\n",
       "    </tr>\n",
       "  </thead>\n",
       "  <tbody>\n",
       "    <tr>\n",
       "      <th>Classic Espresso Drinks</th>\n",
       "      <td>184.375000</td>\n",
       "      <td>11.666667</td>\n",
       "      <td>134.500000</td>\n",
       "      <td>151.250000</td>\n",
       "      <td>NaN</td>\n",
       "    </tr>\n",
       "    <tr>\n",
       "      <th>Coffee</th>\n",
       "      <td>NaN</td>\n",
       "      <td>4.250000</td>\n",
       "      <td>NaN</td>\n",
       "      <td>NaN</td>\n",
       "      <td>NaN</td>\n",
       "    </tr>\n",
       "    <tr>\n",
       "      <th>Frappuccino Blended Coffee</th>\n",
       "      <td>NaN</td>\n",
       "      <td>NaN</td>\n",
       "      <td>267.500000</td>\n",
       "      <td>268.333333</td>\n",
       "      <td>295.000000</td>\n",
       "    </tr>\n",
       "    <tr>\n",
       "      <th>Frappuccino Blended Creme</th>\n",
       "      <td>NaN</td>\n",
       "      <td>NaN</td>\n",
       "      <td>236.666667</td>\n",
       "      <td>243.333333</td>\n",
       "      <td>266.666667</td>\n",
       "    </tr>\n",
       "    <tr>\n",
       "      <th>Frappuccino Light Blended Coffee</th>\n",
       "      <td>NaN</td>\n",
       "      <td>NaN</td>\n",
       "      <td>162.500000</td>\n",
       "      <td>NaN</td>\n",
       "      <td>NaN</td>\n",
       "    </tr>\n",
       "    <tr>\n",
       "      <th>Shaken Iced Beverages</th>\n",
       "      <td>130.000000</td>\n",
       "      <td>106.666667</td>\n",
       "      <td>116.666667</td>\n",
       "      <td>120.000000</td>\n",
       "      <td>NaN</td>\n",
       "    </tr>\n",
       "    <tr>\n",
       "      <th>Signature Espresso Drinks</th>\n",
       "      <td>275.833333</td>\n",
       "      <td>247.500000</td>\n",
       "      <td>233.333333</td>\n",
       "      <td>241.666667</td>\n",
       "      <td>NaN</td>\n",
       "    </tr>\n",
       "    <tr>\n",
       "      <th>Smoothies</th>\n",
       "      <td>286.666667</td>\n",
       "      <td>NaN</td>\n",
       "      <td>276.666667</td>\n",
       "      <td>283.333333</td>\n",
       "      <td>NaN</td>\n",
       "    </tr>\n",
       "    <tr>\n",
       "      <th>Tazo Tea Drinks</th>\n",
       "      <td>211.875000</td>\n",
       "      <td>0.000000</td>\n",
       "      <td>175.625000</td>\n",
       "      <td>188.750000</td>\n",
       "      <td>NaN</td>\n",
       "    </tr>\n",
       "  </tbody>\n",
       "</table>\n",
       "</div>"
      ],
      "text/plain": [
       "Milk                                 2% Milk        None  Nonfat Milk  \\\n",
       "Category                                                                \n",
       "Classic Espresso Drinks           184.375000   11.666667   134.500000   \n",
       "Coffee                                   NaN    4.250000          NaN   \n",
       "Frappuccino Blended Coffee               NaN         NaN   267.500000   \n",
       "Frappuccino Blended Creme                NaN         NaN   236.666667   \n",
       "Frappuccino Light Blended Coffee         NaN         NaN   162.500000   \n",
       "Shaken Iced Beverages             130.000000  106.666667   116.666667   \n",
       "Signature Espresso Drinks         275.833333  247.500000   233.333333   \n",
       "Smoothies                         286.666667         NaN   276.666667   \n",
       "Tazo Tea Drinks                   211.875000    0.000000   175.625000   \n",
       "\n",
       "Milk                                 Soymilk  Whole Milk  \n",
       "Category                                                  \n",
       "Classic Espresso Drinks           151.250000         NaN  \n",
       "Coffee                                   NaN         NaN  \n",
       "Frappuccino Blended Coffee        268.333333  295.000000  \n",
       "Frappuccino Blended Creme         243.333333  266.666667  \n",
       "Frappuccino Light Blended Coffee         NaN         NaN  \n",
       "Shaken Iced Beverages             120.000000         NaN  \n",
       "Signature Espresso Drinks         241.666667         NaN  \n",
       "Smoothies                         283.333333         NaN  \n",
       "Tazo Tea Drinks                   188.750000         NaN  "
      ]
     },
     "execution_count": 79,
     "metadata": {},
     "output_type": "execute_result"
    }
   ],
   "source": [
    "pd.pivot_table(data=Shop,values='Calories',index='Category',columns='Milk',aggfunc='mean')"
   ]
  },
  {
   "cell_type": "markdown",
   "metadata": {},
   "source": [
    "Hypothesis testing :- ANOVA"
   ]
  },
  {
   "cell_type": "code",
   "execution_count": 80,
   "metadata": {},
   "outputs": [
    {
     "name": "stderr",
     "output_type": "stream",
     "text": [
      "/Library/Frameworks/Python.framework/Versions/3.10/lib/python3.10/site-packages/seaborn/_decorators.py:36: FutureWarning: Pass the following variables as keyword args: x, y. From version 0.12, the only valid positional argument will be `data`, and passing other arguments without an explicit keyword will result in an error or misinterpretation.\n",
      "  warnings.warn(\n"
     ]
    },
    {
     "data": {
      "text/plain": [
       "<AxesSubplot:xlabel='Calories', ylabel='Milk'>"
      ]
     },
     "execution_count": 80,
     "metadata": {},
     "output_type": "execute_result"
    },
    {
     "data": {
      "image/png": "[encoded data removed]",
      "text/plain": [
       "<Figure size 432x288 with 1 Axes>"
      ]
     },
     "metadata": {
      "needs_background": "light"
     },
     "output_type": "display_data"
    }
   ],
   "source": [
    "sns.boxplot(Shop.Calories,Shop.Milk)"
   ]
  },
  {
   "cell_type": "code",
   "execution_count": 84,
   "metadata": {},
   "outputs": [
    {
     "data": {
      "text/html": [
       "<div>\n",
       "<style scoped>\n",
       "    .dataframe tbody tr th:only-of-type {\n",
       "        vertical-align: middle;\n",
       "    }\n",
       "\n",
       "    .dataframe tbody tr th {\n",
       "        vertical-align: top;\n",
       "    }\n",
       "\n",
       "    .dataframe thead tr th {\n",
       "        text-align: left;\n",
       "    }\n",
       "\n",
       "    .dataframe thead tr:last-of-type th {\n",
       "        text-align: right;\n",
       "    }\n",
       "</style>\n",
       "<table border=\"1\" class=\"dataframe\">\n",
       "  <thead>\n",
       "    <tr>\n",
       "      <th></th>\n",
       "      <th colspan=\"8\" halign=\"left\">Calories</th>\n",
       "      <th colspan=\"2\" halign=\"left\">TotalFat</th>\n",
       "      <th>...</th>\n",
       "      <th colspan=\"2\" halign=\"left\">Sugars</th>\n",
       "      <th colspan=\"8\" halign=\"left\">Protein</th>\n",
       "    </tr>\n",
       "    <tr>\n",
       "      <th></th>\n",
       "      <th>count</th>\n",
       "      <th>mean</th>\n",
       "      <th>std</th>\n",
       "      <th>min</th>\n",
       "      <th>25%</th>\n",
       "      <th>50%</th>\n",
       "      <th>75%</th>\n",
       "      <th>max</th>\n",
       "      <th>count</th>\n",
       "      <th>mean</th>\n",
       "      <th>...</th>\n",
       "      <th>75%</th>\n",
       "      <th>max</th>\n",
       "      <th>count</th>\n",
       "      <th>mean</th>\n",
       "      <th>std</th>\n",
       "      <th>min</th>\n",
       "      <th>25%</th>\n",
       "      <th>50%</th>\n",
       "      <th>75%</th>\n",
       "      <th>max</th>\n",
       "    </tr>\n",
       "    <tr>\n",
       "      <th>Milk</th>\n",
       "      <th></th>\n",
       "      <th></th>\n",
       "      <th></th>\n",
       "      <th></th>\n",
       "      <th></th>\n",
       "      <th></th>\n",
       "      <th></th>\n",
       "      <th></th>\n",
       "      <th></th>\n",
       "      <th></th>\n",
       "      <th></th>\n",
       "      <th></th>\n",
       "      <th></th>\n",
       "      <th></th>\n",
       "      <th></th>\n",
       "      <th></th>\n",
       "      <th></th>\n",
       "      <th></th>\n",
       "      <th></th>\n",
       "      <th></th>\n",
       "      <th></th>\n",
       "    </tr>\n",
       "  </thead>\n",
       "  <tbody>\n",
       "    <tr>\n",
       "      <th>2% Milk</th>\n",
       "      <td>50.0</td>\n",
       "      <td>218.000000</td>\n",
       "      <td>98.850537</td>\n",
       "      <td>80.0</td>\n",
       "      <td>140.0</td>\n",
       "      <td>200.0</td>\n",
       "      <td>285.0</td>\n",
       "      <td>510.0</td>\n",
       "      <td>50.0</td>\n",
       "      <td>5.520000</td>\n",
       "      <td>...</td>\n",
       "      <td>40.0</td>\n",
       "      <td>74.0</td>\n",
       "      <td>50.0</td>\n",
       "      <td>9.620000</td>\n",
       "      <td>4.685584</td>\n",
       "      <td>2.0</td>\n",
       "      <td>6.0</td>\n",
       "      <td>9.0</td>\n",
       "      <td>13.00</td>\n",
       "      <td>20.0</td>\n",
       "    </tr>\n",
       "    <tr>\n",
       "      <th>None</th>\n",
       "      <td>27.0</td>\n",
       "      <td>75.444444</td>\n",
       "      <td>95.110193</td>\n",
       "      <td>0.0</td>\n",
       "      <td>5.0</td>\n",
       "      <td>25.0</td>\n",
       "      <td>125.0</td>\n",
       "      <td>360.0</td>\n",
       "      <td>27.0</td>\n",
       "      <td>0.022222</td>\n",
       "      <td>...</td>\n",
       "      <td>31.0</td>\n",
       "      <td>83.0</td>\n",
       "      <td>27.0</td>\n",
       "      <td>0.325926</td>\n",
       "      <td>0.397678</td>\n",
       "      <td>0.0</td>\n",
       "      <td>0.0</td>\n",
       "      <td>0.1</td>\n",
       "      <td>0.45</td>\n",
       "      <td>1.0</td>\n",
       "    </tr>\n",
       "    <tr>\n",
       "      <th>Nonfat Milk</th>\n",
       "      <td>81.0</td>\n",
       "      <td>189.506173</td>\n",
       "      <td>88.046880</td>\n",
       "      <td>50.0</td>\n",
       "      <td>120.0</td>\n",
       "      <td>170.0</td>\n",
       "      <td>250.0</td>\n",
       "      <td>450.0</td>\n",
       "      <td>81.0</td>\n",
       "      <td>1.049383</td>\n",
       "      <td>...</td>\n",
       "      <td>44.0</td>\n",
       "      <td>84.0</td>\n",
       "      <td>81.0</td>\n",
       "      <td>8.061728</td>\n",
       "      <td>4.632347</td>\n",
       "      <td>2.0</td>\n",
       "      <td>4.0</td>\n",
       "      <td>7.0</td>\n",
       "      <td>11.00</td>\n",
       "      <td>20.0</td>\n",
       "    </tr>\n",
       "    <tr>\n",
       "      <th>Soymilk</th>\n",
       "      <td>65.0</td>\n",
       "      <td>207.692308</td>\n",
       "      <td>93.135809</td>\n",
       "      <td>50.0</td>\n",
       "      <td>130.0</td>\n",
       "      <td>200.0</td>\n",
       "      <td>270.0</td>\n",
       "      <td>460.0</td>\n",
       "      <td>65.0</td>\n",
       "      <td>4.103077</td>\n",
       "      <td>...</td>\n",
       "      <td>42.0</td>\n",
       "      <td>80.0</td>\n",
       "      <td>65.0</td>\n",
       "      <td>7.184615</td>\n",
       "      <td>4.149143</td>\n",
       "      <td>2.0</td>\n",
       "      <td>4.0</td>\n",
       "      <td>6.0</td>\n",
       "      <td>9.00</td>\n",
       "      <td>19.0</td>\n",
       "    </tr>\n",
       "    <tr>\n",
       "      <th>Whole Milk</th>\n",
       "      <td>15.0</td>\n",
       "      <td>289.333333</td>\n",
       "      <td>84.216275</td>\n",
       "      <td>180.0</td>\n",
       "      <td>220.0</td>\n",
       "      <td>280.0</td>\n",
       "      <td>350.0</td>\n",
       "      <td>460.0</td>\n",
       "      <td>15.0</td>\n",
       "      <td>4.633333</td>\n",
       "      <td>...</td>\n",
       "      <td>68.5</td>\n",
       "      <td>84.0</td>\n",
       "      <td>15.0</td>\n",
       "      <td>4.266667</td>\n",
       "      <td>1.334523</td>\n",
       "      <td>3.0</td>\n",
       "      <td>3.0</td>\n",
       "      <td>4.0</td>\n",
       "      <td>5.00</td>\n",
       "      <td>7.0</td>\n",
       "    </tr>\n",
       "  </tbody>\n",
       "</table>\n",
       "<p>5 rows × 80 columns</p>\n",
       "</div>"
      ],
      "text/plain": [
       "            Calories                                                     \\\n",
       "               count        mean        std    min    25%    50%    75%   \n",
       "Milk                                                                      \n",
       "2% Milk         50.0  218.000000  98.850537   80.0  140.0  200.0  285.0   \n",
       "None            27.0   75.444444  95.110193    0.0    5.0   25.0  125.0   \n",
       "Nonfat Milk     81.0  189.506173  88.046880   50.0  120.0  170.0  250.0   \n",
       "Soymilk         65.0  207.692308  93.135809   50.0  130.0  200.0  270.0   \n",
       "Whole Milk      15.0  289.333333  84.216275  180.0  220.0  280.0  350.0   \n",
       "\n",
       "                   TotalFat            ... Sugars       Protein            \\\n",
       "               max    count      mean  ...    75%   max   count      mean   \n",
       "Milk                                   ...                                  \n",
       "2% Milk      510.0     50.0  5.520000  ...   40.0  74.0    50.0  9.620000   \n",
       "None         360.0     27.0  0.022222  ...   31.0  83.0    27.0  0.325926   \n",
       "Nonfat Milk  450.0     81.0  1.049383  ...   44.0  84.0    81.0  8.061728   \n",
       "Soymilk      460.0     65.0  4.103077  ...   42.0  80.0    65.0  7.184615   \n",
       "Whole Milk   460.0     15.0  4.633333  ...   68.5  84.0    15.0  4.266667   \n",
       "\n",
       "                                                   \n",
       "                  std  min  25%  50%    75%   max  \n",
       "Milk                                               \n",
       "2% Milk      4.685584  2.0  6.0  9.0  13.00  20.0  \n",
       "None         0.397678  0.0  0.0  0.1   0.45   1.0  \n",
       "Nonfat Milk  4.632347  2.0  4.0  7.0  11.00  20.0  \n",
       "Soymilk      4.149143  2.0  4.0  6.0   9.00  19.0  \n",
       "Whole Milk   1.334523  3.0  3.0  4.0   5.00   7.0  \n",
       "\n",
       "[5 rows x 80 columns]"
      ]
     },
     "execution_count": 84,
     "metadata": {},
     "output_type": "execute_result"
    }
   ],
   "source": [
    "Shop.groupby('Milk').describe()"
   ]
  },
  {
   "cell_type": "code",
   "execution_count": 94,
   "metadata": {},
   "outputs": [
    {
     "data": {
      "text/html": [
       "<div>\n",
       "<style scoped>\n",
       "    .dataframe tbody tr th:only-of-type {\n",
       "        vertical-align: middle;\n",
       "    }\n",
       "\n",
       "    .dataframe tbody tr th {\n",
       "        vertical-align: top;\n",
       "    }\n",
       "\n",
       "    .dataframe thead th {\n",
       "        text-align: right;\n",
       "    }\n",
       "</style>\n",
       "<table border=\"1\" class=\"dataframe\">\n",
       "  <thead>\n",
       "    <tr style=\"text-align: right;\">\n",
       "      <th></th>\n",
       "      <th>df</th>\n",
       "      <th>sum_sq</th>\n",
       "      <th>mean_sq</th>\n",
       "      <th>F</th>\n",
       "      <th>PR(&gt;F)</th>\n",
       "    </tr>\n",
       "  </thead>\n",
       "  <tbody>\n",
       "    <tr>\n",
       "      <th>Milk</th>\n",
       "      <td>4.0</td>\n",
       "      <td>5.584364e+05</td>\n",
       "      <td>139609.099632</td>\n",
       "      <td>16.357517</td>\n",
       "      <td>7.975236e-12</td>\n",
       "    </tr>\n",
       "    <tr>\n",
       "      <th>Residual</th>\n",
       "      <td>233.0</td>\n",
       "      <td>1.988622e+06</td>\n",
       "      <td>8534.858769</td>\n",
       "      <td>NaN</td>\n",
       "      <td>NaN</td>\n",
       "    </tr>\n",
       "  </tbody>\n",
       "</table>\n",
       "</div>"
      ],
      "text/plain": [
       "             df        sum_sq        mean_sq          F        PR(>F)\n",
       "Milk        4.0  5.584364e+05  139609.099632  16.357517  7.975236e-12\n",
       "Residual  233.0  1.988622e+06    8534.858769        NaN           NaN"
      ]
     },
     "execution_count": 94,
     "metadata": {},
     "output_type": "execute_result"
    }
   ],
   "source": [
    "formula = 'Calories ~ Milk'\n",
    "model = ols(formula = formula,data = Shop).fit()\n",
    "table = anova_lm(model)\n",
    "table"
   ]
  },
  {
   "cell_type": "code",
   "execution_count": 95,
   "metadata": {},
   "outputs": [
    {
     "data": {
      "text/plain": [
       "((238, 14), (211, 14))"
      ]
     },
     "execution_count": 95,
     "metadata": {},
     "output_type": "execute_result"
    }
   ],
   "source": [
    "Shop_new = Shop[Shop.Milk!= 'None']\n",
    "Shop.shape ,Shop_new.shape"
   ]
  },
  {
   "cell_type": "code",
   "execution_count": 96,
   "metadata": {},
   "outputs": [
    {
     "name": "stderr",
     "output_type": "stream",
     "text": [
      "/Library/Frameworks/Python.framework/Versions/3.10/lib/python3.10/site-packages/seaborn/_decorators.py:36: FutureWarning: Pass the following variables as keyword args: x, y. From version 0.12, the only valid positional argument will be `data`, and passing other arguments without an explicit keyword will result in an error or misinterpretation.\n",
      "  warnings.warn(\n"
     ]
    },
    {
     "data": {
      "text/plain": [
       "<AxesSubplot:xlabel='Calories', ylabel='Milk'>"
      ]
     },
     "execution_count": 96,
     "metadata": {},
     "output_type": "execute_result"
    },
    {
     "data": {
      "image/png": "[encoded data removed]",
      "text/plain": [
       "<Figure size 432x288 with 1 Axes>"
      ]
     },
     "metadata": {
      "needs_background": "light"
     },
     "output_type": "display_data"
    }
   ],
   "source": [
    "sns.boxplot(Shop_new.Calories,Shop_new.Milk)"
   ]
  },
  {
   "cell_type": "code",
   "execution_count": 99,
   "metadata": {},
   "outputs": [
    {
     "data": {
      "text/html": [
       "<div>\n",
       "<style scoped>\n",
       "    .dataframe tbody tr th:only-of-type {\n",
       "        vertical-align: middle;\n",
       "    }\n",
       "\n",
       "    .dataframe tbody tr th {\n",
       "        vertical-align: top;\n",
       "    }\n",
       "\n",
       "    .dataframe thead th {\n",
       "        text-align: right;\n",
       "    }\n",
       "</style>\n",
       "<table border=\"1\" class=\"dataframe\">\n",
       "  <thead>\n",
       "    <tr style=\"text-align: right;\">\n",
       "      <th></th>\n",
       "      <th>df</th>\n",
       "      <th>sum_sq</th>\n",
       "      <th>mean_sq</th>\n",
       "      <th>F</th>\n",
       "      <th>PR(&gt;F)</th>\n",
       "    </tr>\n",
       "  </thead>\n",
       "  <tbody>\n",
       "    <tr>\n",
       "      <th>Milk</th>\n",
       "      <td>3.0</td>\n",
       "      <td>1.317432e+05</td>\n",
       "      <td>43914.396571</td>\n",
       "      <td>5.184292</td>\n",
       "      <td>0.001789</td>\n",
       "    </tr>\n",
       "    <tr>\n",
       "      <th>Residual</th>\n",
       "      <td>207.0</td>\n",
       "      <td>1.753427e+06</td>\n",
       "      <td>8470.663896</td>\n",
       "      <td>NaN</td>\n",
       "      <td>NaN</td>\n",
       "    </tr>\n",
       "  </tbody>\n",
       "</table>\n",
       "</div>"
      ],
      "text/plain": [
       "             df        sum_sq       mean_sq         F    PR(>F)\n",
       "Milk        3.0  1.317432e+05  43914.396571  5.184292  0.001789\n",
       "Residual  207.0  1.753427e+06   8470.663896       NaN       NaN"
      ]
     },
     "execution_count": 99,
     "metadata": {},
     "output_type": "execute_result"
    }
   ],
   "source": [
    "formula = 'Calories ~ Milk'\n",
    "model = ols(formula = formula,data = Shop_new).fit()\n",
    "table = anova_lm(model)\n",
    "table"
   ]
  },
  {
   "cell_type": "markdown",
   "metadata": {},
   "source": [
    "Linear Regression :-"
   ]
  },
  {
   "cell_type": "code",
   "execution_count": 91,
   "metadata": {},
   "outputs": [
    {
     "data": {
      "text/plain": [
       "Index(['Category', 'Beverage', 'Size', 'Milk', 'Calories', 'TotalFat',\n",
       "       'TransFat', 'SaturatedFat', 'Sodium', 'TotalCarb', 'Cholesterol',\n",
       "       'DietaryFibre', 'Sugars', 'Protein'],\n",
       "      dtype='object')"
      ]
     },
     "execution_count": 91,
     "metadata": {},
     "output_type": "execute_result"
    }
   ],
   "source": [
    "Shop.columns"
   ]
  },
  {
   "cell_type": "code",
   "execution_count": 93,
   "metadata": {},
   "outputs": [
    {
     "name": "stdout",
     "output_type": "stream",
     "text": [
      "                            OLS Regression Results                            \n",
      "==============================================================================\n",
      "Dep. Variable:               Calories   R-squared:                       0.999\n",
      "Model:                            OLS   Adj. R-squared:                  0.998\n",
      "Method:                 Least Squares   F-statistic:                     2722.\n",
      "Date:                Tue, 08 Feb 2022   Prob (F-statistic):          1.36e-245\n",
      "Time:                        17:24:36   Log-Likelihood:                -666.67\n",
      "No. Observations:                 238   AIC:                             1429.\n",
      "Df Residuals:                     190   BIC:                             1596.\n",
      "Df Model:                          47                                         \n",
      "Covariance Type:            nonrobust                                         \n",
      "==================================================================================================================================\n",
      "                                                                     coef    std err          t      P>|t|      [0.025      0.975]\n",
      "----------------------------------------------------------------------------------------------------------------------------------\n",
      "Intercept                                                          6.9061      2.297      3.006      0.003       2.374      11.438\n",
      "Category[T.Coffee]                                                -2.0219      1.316     -1.536      0.126      -4.618       0.574\n",
      "Category[T.Frappuccino Blended Coffee]                            -6.1652      2.753     -2.240      0.026     -11.595      -0.736\n",
      "Category[T.Frappuccino Blended Creme]                             -1.9511      1.487     -1.312      0.191      -4.885       0.983\n",
      "Category[T.Frappuccino Light Blended Coffee]                      -7.6508      2.811     -2.721      0.007     -13.196      -2.105\n",
      "Category[T.Shaken Iced Beverages]                                 -3.9941      1.878     -2.126      0.035      -7.699      -0.289\n",
      "Category[T.Signature Espresso Drinks]                              1.4942      1.667      0.896      0.371      -1.794       4.783\n",
      "Category[T.Smoothies]                                             10.7241      7.963      1.347      0.180      -4.982      26.431\n",
      "Category[T.Tazo Tea Drinks]                                        1.0442      1.264      0.826      0.410      -1.450       3.538\n",
      "Beverage[T.Brewed Coffee]                                         -2.0219      1.316     -1.536      0.126      -4.618       0.574\n",
      "Beverage[T.Caffe Americano]                                        1.1860      2.235      0.531      0.596      -3.222       5.594\n",
      "Beverage[T.Caffe Latte]                                            7.3406      1.947      3.771      0.000       3.500      11.181\n",
      "Beverage[T.Caffe Mocha (Without Whipped Cream)]                   -7.5200      2.237     -3.362      0.001     -11.932      -3.108\n",
      "Beverage[T.Cappuccino]                                             1.5053      1.749      0.861      0.390      -1.944       4.955\n",
      "Beverage[T.Caramel]                                                1.8848      2.994      0.630      0.530      -4.021       7.790\n",
      "Beverage[T.Caramel (Without Whipped Cream)]                        1.7793      2.247      0.792      0.429      -2.652       6.211\n",
      "Beverage[T.Caramel Apple Spice (Without Whipped Cream)]            6.9525      3.358      2.070      0.040       0.329      13.576\n",
      "Beverage[T.Caramel Macchiato]                                      4.6954      1.671      2.810      0.005       1.399       7.991\n",
      "Beverage[T.Coffee]                                                 1.1137      1.856      0.600      0.549      -2.547       4.774\n",
      "Beverage[T.Espresso]                                              -0.0667      3.291     -0.020      0.984      -6.558       6.425\n",
      "Beverage[T.Hot Chocolate (Without Whipped Cream)]                -12.1471      1.752     -6.932      0.000     -15.603      -8.691\n",
      "Beverage[T.Iced Brewed Coffee (With Classic Syrup)]                1.6025      2.214      0.724      0.470      -2.765       5.970\n",
      "Beverage[T.Iced Brewed Coffee (With Milk & Classic Syrup)]        -0.2336      1.766     -0.132      0.895      -3.716       3.249\n",
      "Beverage[T.Java Chip]                                             -5.8951      3.034     -1.943      0.054     -11.880       0.090\n",
      "Beverage[T.Java Chip (Without Whipped Cream)]                     -6.9878      2.334     -2.994      0.003     -11.591      -2.384\n",
      "Beverage[T.Mocha]                                                 -1.0515      2.881     -0.365      0.716      -6.735       4.632\n",
      "Beverage[T.Mocha (Without Whipped Cream)]                         -4.6595      2.099     -2.220      0.028      -8.799      -0.520\n",
      "Beverage[T.Orange Mango Banana Smoothie]                           5.3530      3.938      1.359      0.176      -2.416      13.122\n",
      "Beverage[T.Shaken Iced Tazo Tea (With Classic Syrup)]             -3.3748      2.209     -1.528      0.128      -7.733       0.983\n",
      "Beverage[T.Shaken Iced Tazo Tea Lemonade (With Classic Syrup)]    -1.9882      2.419     -0.822      0.412      -6.760       2.783\n",
      "Beverage[T.Skinny Latte (Any Flavour)]                             5.5730      2.593      2.150      0.033       0.459      10.687\n",
      "Beverage[T.Strawberries & Creme (Without Whipped Cream)]          -1.9511      1.487     -1.312      0.191      -4.885       0.983\n",
      "Beverage[T.Strawberry Banana Smoothie]                             6.8722      4.005      1.716      0.088      -1.028      14.772\n",
      "Beverage[T.Tazo Chai Tea Latte]                                   -0.3895      1.617     -0.241      0.810      -3.580       2.801\n",
      "Beverage[T.Tazo Full-Leaf Red Tea Latte (Vanilla Rooibos)]        -0.2420      1.336     -0.181      0.856      -2.877       2.393\n",
      "Beverage[T.Tazo Full-Leaf Tea Latte]                              -0.2420      1.336     -0.181      0.856      -2.877       2.393\n",
      "Beverage[T.Tazo Green Tea Latte]                                   7.9092      2.005      3.945      0.000       3.955      11.864\n",
      "Beverage[T.Tazo Tea]                                              -5.9915      2.266     -2.644      0.009     -10.462      -1.521\n",
      "Beverage[T.Vanilla Latte (Or Other Flavoured Latte)]               7.4085      1.727      4.290      0.000       4.002      10.815\n",
      "Beverage[T.White Chocolate Mocha (Without Whipped Cream)]          1.9934      2.469      0.807      0.420      -2.877       6.863\n",
      "Size[T.Grande]                                                     3.4021      1.162      2.928      0.004       1.110       5.694\n",
      "Size[T.Short]                                                     -2.6152      1.127     -2.321      0.021      -4.838      -0.393\n",
      "Size[T.Single]                                                    -1.2490      6.325     -0.197      0.844     -13.726      11.228\n",
      "Size[T.Tall]                                                       1.0201      0.882      1.156      0.249      -0.720       2.760\n",
      "Size[T.Venti]                                                      5.1657      1.793      2.880      0.004       1.628       8.703\n",
      "Milk[T.None]                                                      -3.7020      2.148     -1.723      0.086      -7.939       0.535\n",
      "Milk[T.Nonfat Milk]                                               -0.9351      1.913     -0.489      0.626      -4.709       2.839\n",
      "Milk[T.Soymilk]                                                   -0.4281      1.894     -0.226      0.821      -4.164       3.308\n",
      "Milk[T.Whole Milk]                                                 0.1795      1.722      0.104      0.917      -3.218       3.577\n",
      "TotalFat                                                           9.7024      0.445     21.784      0.000       8.824      10.581\n",
      "Cholesterol                                                        1.8859      0.485      3.886      0.000       0.929       2.843\n",
      "TotalCarb                                                          0.0264      0.022      1.202      0.231      -0.017       0.070\n",
      "Sodium                                                            -0.2522      0.175     -1.444      0.150      -0.597       0.092\n",
      "SaturatedFat                                                     -15.0687     18.419     -0.818      0.414     -51.401      21.264\n",
      "DietaryFibre                                                       0.4210      1.157      0.364      0.716      -1.860       2.702\n",
      "Sugars                                                             2.0381      0.488      4.174      0.000       1.075       3.001\n",
      "Protein                                                            3.0644      0.329      9.323      0.000       2.416       3.713\n",
      "==============================================================================\n",
      "Omnibus:                       38.038   Durbin-Watson:                   2.002\n",
      "Prob(Omnibus):                  0.000   Jarque-Bera (JB):              114.220\n",
      "Skew:                           0.653   Prob(JB):                     1.58e-25\n",
      "Kurtosis:                       6.132   Cond. No.                     2.79e+16\n",
      "==============================================================================\n",
      "\n",
      "Notes:\n",
      "[1] Standard Errors assume that the covariance matrix of the errors is correctly specified.\n",
      "[2] The smallest eigenvalue is 7.99e-27. This might indicate that there are\n",
      "strong multicollinearity problems or that the design matrix is singular.\n"
     ]
    }
   ],
   "source": [
    "formula = 'Calories ~ Category + Beverage + Size + Milk + TotalFat + Cholesterol + TotalCarb + Sodium + SaturatedFat + DietaryFibre + Sugars + Protein'\n",
    "lm = smf.ols(formula = formula, data = Shop).fit()\n",
    "print(lm.summary())"
   ]
  },
  {
   "cell_type": "code",
   "execution_count": 104,
   "metadata": {},
   "outputs": [
    {
     "name": "stdout",
     "output_type": "stream",
     "text": [
      "                            OLS Regression Results                            \n",
      "==============================================================================\n",
      "Dep. Variable:               Calories   R-squared:                       0.992\n",
      "Model:                            OLS   Adj. R-squared:                  0.991\n",
      "Method:                 Least Squares   F-statistic:                     9152.\n",
      "Date:                Tue, 08 Feb 2022   Prob (F-statistic):          3.42e-242\n",
      "Time:                        17:44:26   Log-Likelihood:                -873.77\n",
      "No. Observations:                 238   AIC:                             1756.\n",
      "Df Residuals:                     234   BIC:                             1769.\n",
      "Df Model:                           3                                         \n",
      "Covariance Type:            nonrobust                                         \n",
      "==============================================================================\n",
      "                 coef    std err          t      P>|t|      [0.025      0.975]\n",
      "------------------------------------------------------------------------------\n",
      "Intercept      1.7872      1.365      1.309      0.192      -0.902       4.476\n",
      "TotalFat       8.6220      0.260     33.195      0.000       8.110       9.134\n",
      "Sugars         3.9879      0.034    118.833      0.000       3.922       4.054\n",
      "Protein        5.0997      0.153     33.266      0.000       4.798       5.402\n",
      "==============================================================================\n",
      "Omnibus:                       41.852   Durbin-Watson:                   1.548\n",
      "Prob(Omnibus):                  0.000   Jarque-Bera (JB):               67.363\n",
      "Skew:                           0.982   Prob(JB):                     2.36e-15\n",
      "Kurtosis:                       4.713   Cond. No.                         85.8\n",
      "==============================================================================\n",
      "\n",
      "Notes:\n",
      "[1] Standard Errors assume that the covariance matrix of the errors is correctly specified.\n"
     ]
    }
   ],
   "source": [
    "formula = 'Calories ~  TotalFat + Sugars + Protein'\n",
    "lm = smf.ols(formula = formula, data = Shop).fit()\n",
    "print(lm.summary())"
   ]
  },
  {
   "cell_type": "code",
   "execution_count": 106,
   "metadata": {},
   "outputs": [],
   "source": [
    "pred = lm.predict(Shop)"
   ]
  },
  {
   "cell_type": "code",
   "execution_count": 107,
   "metadata": {},
   "outputs": [
    {
     "name": "stderr",
     "output_type": "stream",
     "text": [
      "/Library/Frameworks/Python.framework/Versions/3.10/lib/python3.10/site-packages/seaborn/_decorators.py:36: FutureWarning: Pass the following variables as keyword args: x, y. From version 0.12, the only valid positional argument will be `data`, and passing other arguments without an explicit keyword will result in an error or misinterpretation.\n",
      "  warnings.warn(\n"
     ]
    },
    {
     "data": {
      "text/plain": [
       "<AxesSubplot:xlabel='Calories'>"
      ]
     },
     "execution_count": 107,
     "metadata": {},
     "output_type": "execute_result"
    },
    {
     "data": {
      "image/png": "[encoded data removed]",
      "text/plain": [
       "<Figure size 432x288 with 1 Axes>"
      ]
     },
     "metadata": {
      "needs_background": "light"
     },
     "output_type": "display_data"
    }
   ],
   "source": [
    "sns.scatterplot(Shop.Calories,pred)"
   ]
  },
  {
   "cell_type": "code",
   "execution_count": 108,
   "metadata": {},
   "outputs": [
    {
     "name": "stderr",
     "output_type": "stream",
     "text": [
      "/Library/Frameworks/Python.framework/Versions/3.10/lib/python3.10/site-packages/seaborn/_decorators.py:36: FutureWarning: Pass the following variables as keyword args: x, y. From version 0.12, the only valid positional argument will be `data`, and passing other arguments without an explicit keyword will result in an error or misinterpretation.\n",
      "  warnings.warn(\n"
     ]
    },
    {
     "data": {
      "text/plain": [
       "<AxesSubplot:xlabel='Calories'>"
      ]
     },
     "execution_count": 108,
     "metadata": {},
     "output_type": "execute_result"
    },
    {
     "data": {
      "image/png": "[encoded data removed]",
      "text/plain": [
       "<Figure size 432x288 with 1 Axes>"
      ]
     },
     "metadata": {
      "needs_background": "light"
     },
     "output_type": "display_data"
    }
   ],
   "source": [
    "sns.scatterplot(Shop.Calories,pred-Shop.Calories)"
   ]
  },
  {
   "cell_type": "code",
   "execution_count": 109,
   "metadata": {},
   "outputs": [
    {
     "data": {
      "text/plain": [
       "<AxesSubplot:ylabel='Density'>"
      ]
     },
     "execution_count": 109,
     "metadata": {},
     "output_type": "execute_result"
    },
    {
     "data": {
      "image/png": "[encoded data removed]",
      "text/plain": [
       "<Figure size 432x288 with 1 Axes>"
      ]
     },
     "metadata": {
      "needs_background": "light"
     },
     "output_type": "display_data"
    }
   ],
   "source": [
    "sns.kdeplot(pred -Shop.Calories)"
   ]
  },
  {
   "cell_type": "markdown",
   "metadata": {},
   "source": [
    "Final Result:-"
   ]
  }
 ],
 "metadata": {
  "interpreter": {
   "hash": "aee8b7b246df8f9039afb4144a1f6fd8d2ca17a180786b69acc140d282b71a49"
  },
  "kernelspec": {
   "display_name": "Python 3.10.1 64-bit",
   "language": "python",
   "name": "python3"
  },
  "language_info": {
   "codemirror_mode": {
    "name": "ipython",
    "version": 3
   },
   "file_extension": ".py",
   "mimetype": "text/x-python",
   "name": "python",
   "nbconvert_exporter": "python",
   "pygments_lexer": "ipython3",
   "version": "3.10.1"
  },
  "orig_nbformat": 4
 },
 "nbformat": 4,
 "nbformat_minor": 2
}
